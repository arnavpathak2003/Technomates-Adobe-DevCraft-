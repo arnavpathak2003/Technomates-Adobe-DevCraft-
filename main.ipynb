{
 "cells": [
  {
   "cell_type": "code",
   "execution_count": 1,
   "metadata": {},
   "outputs": [
    {
     "name": "stderr",
     "output_type": "stream",
     "text": [
      "2024-02-10 00:13:05.766987: I tensorflow/core/util/port.cc:113] oneDNN custom operations are on. You may see slightly different numerical results due to floating-point round-off errors from different computation orders. To turn them off, set the environment variable `TF_ENABLE_ONEDNN_OPTS=0`.\n",
      "2024-02-10 00:13:05.793004: E external/local_xla/xla/stream_executor/cuda/cuda_dnn.cc:9261] Unable to register cuDNN factory: Attempting to register factory for plugin cuDNN when one has already been registered\n",
      "2024-02-10 00:13:05.793037: E external/local_xla/xla/stream_executor/cuda/cuda_fft.cc:607] Unable to register cuFFT factory: Attempting to register factory for plugin cuFFT when one has already been registered\n",
      "2024-02-10 00:13:05.793866: E external/local_xla/xla/stream_executor/cuda/cuda_blas.cc:1515] Unable to register cuBLAS factory: Attempting to register factory for plugin cuBLAS when one has already been registered\n",
      "2024-02-10 00:13:05.798645: I tensorflow/core/platform/cpu_feature_guard.cc:182] This TensorFlow binary is optimized to use available CPU instructions in performance-critical operations.\n",
      "To enable the following instructions: AVX2 AVX_VNNI FMA, in other operations, rebuild TensorFlow with the appropriate compiler flags.\n",
      "2024-02-10 00:13:06.487451: W tensorflow/compiler/tf2tensorrt/utils/py_utils.cc:38] TF-TRT Warning: Could not find TensorRT\n"
     ]
    }
   ],
   "source": [
    "import pandas as pd\n",
    "import tensorflow as tf\n",
    "import tensorflow_hub as hub\n",
    "import tensorflow_text as text\n",
    "import re\n",
    "from sklearn.preprocessing import LabelEncoder\n",
    "from sklearn.model_selection import train_test_split\n",
    "from tensorflow.keras.utils import to_categorical\n",
    "from tensorflow.keras.callbacks import EarlyStopping, ModelCheckpoint, TensorBoard\n",
    "from tensorflow.keras.optimizers.schedules import PolynomialDecay\n",
    "from tensorflow.keras import regularizers"
   ]
  },
  {
   "cell_type": "code",
   "execution_count": 2,
   "metadata": {},
   "outputs": [],
   "source": [
    "df1 = pd.read_csv(\"book1.csv\")\n",
    "df2 = pd.read_csv(\"book.csv\")\n",
    "\n",
    "df = pd.concat([df1, df2])"
   ]
  },
  {
   "cell_type": "code",
   "execution_count": 3,
   "metadata": {},
   "outputs": [
    {
     "data": {
      "text/plain": [
       "label\n",
       "medical        20\n",
       "legal          20\n",
       "financial      20\n",
       "educational    20\n",
       "business       20\n",
       "news           20\n",
       "technical      20\n",
       "creative       20\n",
       "scientific     20\n",
       "government     20\n",
       "Name: count, dtype: int64"
      ]
     },
     "execution_count": 3,
     "metadata": {},
     "output_type": "execute_result"
    }
   ],
   "source": [
    "df[\"label\"].value_counts()"
   ]
  },
  {
   "cell_type": "code",
   "execution_count": 4,
   "metadata": {},
   "outputs": [],
   "source": [
    "def preprocess(text):\n",
    "    text = re.sub(\"[_\\n]\", \" \", text)\n",
    "    return re.sub(r\" +\", \"\", text)\n",
    "\n",
    "\n",
    "df[\"text\"] = df[\"text\"].apply(preprocess)"
   ]
  },
  {
   "cell_type": "code",
   "execution_count": 5,
   "metadata": {},
   "outputs": [
    {
     "name": "stderr",
     "output_type": "stream",
     "text": [
      "2024-02-10 00:13:07.542915: I external/local_xla/xla/stream_executor/cuda/cuda_executor.cc:901] successful NUMA node read from SysFS had negative value (-1), but there must be at least one NUMA node, so returning NUMA node zero. See more at https://github.com/torvalds/linux/blob/v6.0/Documentation/ABI/testing/sysfs-bus-pci#L344-L355\n",
      "2024-02-10 00:13:07.634063: I external/local_xla/xla/stream_executor/cuda/cuda_executor.cc:901] successful NUMA node read from SysFS had negative value (-1), but there must be at least one NUMA node, so returning NUMA node zero. See more at https://github.com/torvalds/linux/blob/v6.0/Documentation/ABI/testing/sysfs-bus-pci#L344-L355\n",
      "2024-02-10 00:13:07.634217: I external/local_xla/xla/stream_executor/cuda/cuda_executor.cc:901] successful NUMA node read from SysFS had negative value (-1), but there must be at least one NUMA node, so returning NUMA node zero. See more at https://github.com/torvalds/linux/blob/v6.0/Documentation/ABI/testing/sysfs-bus-pci#L344-L355\n",
      "2024-02-10 00:13:07.635442: I external/local_xla/xla/stream_executor/cuda/cuda_executor.cc:901] successful NUMA node read from SysFS had negative value (-1), but there must be at least one NUMA node, so returning NUMA node zero. See more at https://github.com/torvalds/linux/blob/v6.0/Documentation/ABI/testing/sysfs-bus-pci#L344-L355\n",
      "2024-02-10 00:13:07.635567: I external/local_xla/xla/stream_executor/cuda/cuda_executor.cc:901] successful NUMA node read from SysFS had negative value (-1), but there must be at least one NUMA node, so returning NUMA node zero. See more at https://github.com/torvalds/linux/blob/v6.0/Documentation/ABI/testing/sysfs-bus-pci#L344-L355\n",
      "2024-02-10 00:13:07.635631: I external/local_xla/xla/stream_executor/cuda/cuda_executor.cc:901] successful NUMA node read from SysFS had negative value (-1), but there must be at least one NUMA node, so returning NUMA node zero. See more at https://github.com/torvalds/linux/blob/v6.0/Documentation/ABI/testing/sysfs-bus-pci#L344-L355\n",
      "2024-02-10 00:13:07.696745: I external/local_xla/xla/stream_executor/cuda/cuda_executor.cc:901] successful NUMA node read from SysFS had negative value (-1), but there must be at least one NUMA node, so returning NUMA node zero. See more at https://github.com/torvalds/linux/blob/v6.0/Documentation/ABI/testing/sysfs-bus-pci#L344-L355\n",
      "2024-02-10 00:13:07.696882: I external/local_xla/xla/stream_executor/cuda/cuda_executor.cc:901] successful NUMA node read from SysFS had negative value (-1), but there must be at least one NUMA node, so returning NUMA node zero. See more at https://github.com/torvalds/linux/blob/v6.0/Documentation/ABI/testing/sysfs-bus-pci#L344-L355\n",
      "2024-02-10 00:13:07.696978: I external/local_xla/xla/stream_executor/cuda/cuda_executor.cc:901] successful NUMA node read from SysFS had negative value (-1), but there must be at least one NUMA node, so returning NUMA node zero. See more at https://github.com/torvalds/linux/blob/v6.0/Documentation/ABI/testing/sysfs-bus-pci#L344-L355\n",
      "2024-02-10 00:13:07.697038: I tensorflow/core/common_runtime/gpu/gpu_device.cc:1929] Created device /job:localhost/replica:0/task:0/device:GPU:0 with 2143 MB memory:  -> device: 0, name: NVIDIA GeForce RTX 3060 Laptop GPU, pci bus id: 0000:01:00.0, compute capability: 8.6\n"
     ]
    }
   ],
   "source": [
    "bert_preprocess = hub.KerasLayer(\n",
    "    \"https://tfhub.dev/tensorflow/bert_en_uncased_preprocess/3\"\n",
    ")\n",
    "bert_encoder = hub.KerasLayer(\n",
    "    \"https://tfhub.dev/tensorflow/bert_en_uncased_L-12_H-768_A-12/3\"\n",
    ")"
   ]
  },
  {
   "cell_type": "code",
   "execution_count": 6,
   "metadata": {},
   "outputs": [],
   "source": [
    "label_encoder = LabelEncoder()\n",
    "df[\"label\"] = label_encoder.fit_transform(df[\"label\"])"
   ]
  },
  {
   "cell_type": "code",
   "execution_count": 7,
   "metadata": {},
   "outputs": [
    {
     "data": {
      "text/html": [
       "<div>\n",
       "<style scoped>\n",
       "    .dataframe tbody tr th:only-of-type {\n",
       "        vertical-align: middle;\n",
       "    }\n",
       "\n",
       "    .dataframe tbody tr th {\n",
       "        vertical-align: top;\n",
       "    }\n",
       "\n",
       "    .dataframe thead th {\n",
       "        text-align: right;\n",
       "    }\n",
       "</style>\n",
       "<table border=\"1\" class=\"dataframe\">\n",
       "  <thead>\n",
       "    <tr style=\"text-align: right;\">\n",
       "      <th></th>\n",
       "      <th>label</th>\n",
       "      <th>text</th>\n",
       "    </tr>\n",
       "  </thead>\n",
       "  <tbody>\n",
       "    <tr>\n",
       "      <th>0</th>\n",
       "      <td>6</td>\n",
       "      <td>MedicalHistoryFormPatientInformation:Name:Edwa...</td>\n",
       "    </tr>\n",
       "    <tr>\n",
       "      <th>1</th>\n",
       "      <td>6</td>\n",
       "      <td>PhysicalExaminationReportPatientInformation:Na...</td>\n",
       "    </tr>\n",
       "    <tr>\n",
       "      <th>2</th>\n",
       "      <td>6</td>\n",
       "      <td>LaboratoryTestResults(BloodTest)PatientInforma...</td>\n",
       "    </tr>\n",
       "    <tr>\n",
       "      <th>3</th>\n",
       "      <td>6</td>\n",
       "      <td>RadiologyReport(X-ray)PatientInformation:Name:...</td>\n",
       "    </tr>\n",
       "    <tr>\n",
       "      <th>4</th>\n",
       "      <td>6</td>\n",
       "      <td>PrescriptionRecordPatientInformation:Name:Rohi...</td>\n",
       "    </tr>\n",
       "    <tr>\n",
       "      <th>...</th>\n",
       "      <td>...</td>\n",
       "      <td>...</td>\n",
       "    </tr>\n",
       "    <tr>\n",
       "      <th>95</th>\n",
       "      <td>4</td>\n",
       "      <td>PublicPolicyReportTitle:NationalClimateChangeP...</td>\n",
       "    </tr>\n",
       "    <tr>\n",
       "      <th>96</th>\n",
       "      <td>4</td>\n",
       "      <td>EnvironmentalImpactStatement(EIS)Title:Propose...</td>\n",
       "    </tr>\n",
       "    <tr>\n",
       "      <th>97</th>\n",
       "      <td>4</td>\n",
       "      <td>PublicHealthAdvisoryTitle:CentersforDiseaseCon...</td>\n",
       "    </tr>\n",
       "    <tr>\n",
       "      <th>98</th>\n",
       "      <td>4</td>\n",
       "      <td>GovernmentAuditReportTitle:InternalRevenueServ...</td>\n",
       "    </tr>\n",
       "    <tr>\n",
       "      <th>99</th>\n",
       "      <td>5</td>\n",
       "      <td>ThisNon-DisclosureAgreement(\"Agreement\")isente...</td>\n",
       "    </tr>\n",
       "  </tbody>\n",
       "</table>\n",
       "<p>200 rows × 2 columns</p>\n",
       "</div>"
      ],
      "text/plain": [
       "    label                                               text\n",
       "0       6  MedicalHistoryFormPatientInformation:Name:Edwa...\n",
       "1       6  PhysicalExaminationReportPatientInformation:Na...\n",
       "2       6  LaboratoryTestResults(BloodTest)PatientInforma...\n",
       "3       6  RadiologyReport(X-ray)PatientInformation:Name:...\n",
       "4       6  PrescriptionRecordPatientInformation:Name:Rohi...\n",
       "..    ...                                                ...\n",
       "95      4  PublicPolicyReportTitle:NationalClimateChangeP...\n",
       "96      4  EnvironmentalImpactStatement(EIS)Title:Propose...\n",
       "97      4  PublicHealthAdvisoryTitle:CentersforDiseaseCon...\n",
       "98      4  GovernmentAuditReportTitle:InternalRevenueServ...\n",
       "99      5  ThisNon-DisclosureAgreement(\"Agreement\")isente...\n",
       "\n",
       "[200 rows x 2 columns]"
      ]
     },
     "execution_count": 7,
     "metadata": {},
     "output_type": "execute_result"
    }
   ],
   "source": [
    "df"
   ]
  },
  {
   "cell_type": "code",
   "execution_count": 8,
   "metadata": {},
   "outputs": [],
   "source": [
    "df = df.sample(frac=1, random_state=30)\n",
    "train_data, temp_data = train_test_split(\n",
    "    df, test_size=0.2, stratify=df[\"label\"], random_state=30\n",
    ")\n",
    "dev_data, test_data = train_test_split(\n",
    "    temp_data, test_size=0.5, stratify=temp_data[\"label\"], random_state=30\n",
    ")"
   ]
  },
  {
   "cell_type": "code",
   "execution_count": 9,
   "metadata": {},
   "outputs": [],
   "source": [
    "import numpy as np\n",
    "\n",
    "X_train = np.array((train_data[\"text\"].tolist()))\n",
    "y_train = np.array(to_categorical(train_data[\"label\"].tolist(), num_classes=10))\n",
    "X_dev = np.array((dev_data[\"text\"].tolist()))\n",
    "y_dev = np.array(to_categorical(dev_data[\"label\"].tolist(), num_classes=10))\n",
    "X_test = np.array((test_data[\"text\"].tolist()))\n",
    "y_test = np.array(to_categorical(test_data[\"label\"].tolist(), num_classes=10))"
   ]
  },
  {
   "cell_type": "code",
   "execution_count": 10,
   "metadata": {},
   "outputs": [],
   "source": [
    "text_input = tf.keras.layers.Input(shape=(), dtype=tf.string, name=\"text\")\n",
    "preprocessed_text = bert_preprocess(text_input)\n",
    "outputs = bert_encoder(preprocessed_text)"
   ]
  },
  {
   "cell_type": "code",
   "execution_count": 11,
   "metadata": {},
   "outputs": [],
   "source": [
    "lambda_reg = 0.01"
   ]
  },
  {
   "cell_type": "code",
   "execution_count": 12,
   "metadata": {},
   "outputs": [],
   "source": [
    "dropout_layer1 = tf.keras.layers.Dropout(0.1)(outputs[\"pooled_output\"])\n",
    "dense_layer1 = tf.keras.layers.Dense(\n",
    "    512, activation=\"relu\", kernel_regularizer=regularizers.l2(lambda_reg)\n",
    ")(dropout_layer1)\n",
    "dropout_layer2 = tf.keras.layers.Dropout(0.1)(dense_layer1)\n",
    "dense_layer2 = tf.keras.layers.Dense(\n",
    "    512, activation=\"relu\", kernel_regularizer=regularizers.l2(lambda_reg)\n",
    ")(dropout_layer2)\n",
    "output = tf.keras.layers.Dense(10, activation=\"softmax\", name=\"output\")(dense_layer2)\n",
    "model = tf.keras.Model(inputs=[text_input], outputs=output)"
   ]
  },
  {
   "cell_type": "code",
   "execution_count": 13,
   "metadata": {},
   "outputs": [],
   "source": [
    "batch_size = 32"
   ]
  },
  {
   "cell_type": "code",
   "execution_count": 14,
   "metadata": {},
   "outputs": [],
   "source": [
    "STEPS_PER_EPOCH = len(X_train) // batch_size\n",
    "#\n",
    "custom_lr = PolynomialDecay(\n",
    "    initial_learning_rate=0.01, decay_steps=STEPS_PER_EPOCH, end_learning_rate=0.0001\n",
    ")\n",
    "# # Now you can use STEPS_PER_EPOCH in your learning rate schedule\n",
    "# custom_lr = tf.keras.optimizers.schedules.InverseTimeDecay(\n",
    "#     0.001, decay_steps=STEPS_PER_EPOCH * 1000, decay_rate=1, staircase=False\n",
    "# )"
   ]
  },
  {
   "cell_type": "code",
   "execution_count": 15,
   "metadata": {},
   "outputs": [
    {
     "name": "stderr",
     "output_type": "stream",
     "text": [
      "2024-02-10 00:13:13.012515: I external/local_tsl/tsl/platform/default/subprocess.cc:304] Start cannot spawn child process: No such file or directory\n"
     ]
    }
   ],
   "source": [
    "model.compile(\n",
    "    optimizer=tf.keras.optimizers.Adam(learning_rate=custom_lr),\n",
    "    loss=\"categorical_crossentropy\",\n",
    "    metrics=[\"accuracy\"],\n",
    ")"
   ]
  },
  {
   "cell_type": "code",
   "execution_count": 16,
   "metadata": {},
   "outputs": [],
   "source": [
    "early_stopping = EarlyStopping(monitor=\"val_loss\", patience=3)\n",
    "checkpoint = ModelCheckpoint(\n",
    "    \"best_model.h5\", monitor=\"val_accuracy\", verbose=1, save_best_only=True, mode=\"max\"\n",
    ")\n",
    "tensorboard = TensorBoard(log_dir=\"./logs\")"
   ]
  },
  {
   "cell_type": "code",
   "execution_count": 17,
   "metadata": {},
   "outputs": [
    {
     "name": "stdout",
     "output_type": "stream",
     "text": [
      "5/5 [==============================] - 3s 300ms/step - loss: 13.6083 - accuracy: 0.1000\n"
     ]
    },
    {
     "data": {
      "text/plain": [
       "[13.608274459838867, 0.10000000149011612]"
      ]
     },
     "execution_count": 17,
     "metadata": {},
     "output_type": "execute_result"
    }
   ],
   "source": [
    "model.evaluate(X_train, y_train)"
   ]
  },
  {
   "cell_type": "code",
   "execution_count": 18,
   "metadata": {},
   "outputs": [
    {
     "name": "stdout",
     "output_type": "stream",
     "text": [
      "1/1 [==============================] - 1s 693ms/step - loss: 13.5993 - accuracy: 0.1000\n"
     ]
    },
    {
     "data": {
      "text/plain": [
       "[13.599302291870117, 0.10000000149011612]"
      ]
     },
     "execution_count": 18,
     "metadata": {},
     "output_type": "execute_result"
    }
   ],
   "source": [
    "model.evaluate(X_test, y_test)"
   ]
  },
  {
   "cell_type": "code",
   "execution_count": 19,
   "metadata": {},
   "outputs": [
    {
     "name": "stdout",
     "output_type": "stream",
     "text": [
      "1/1 [==============================] - 0s 198ms/step - loss: 13.6241 - accuracy: 0.1000\n"
     ]
    },
    {
     "data": {
      "text/plain": [
       "[13.6240873336792, 0.10000000149011612]"
      ]
     },
     "execution_count": 19,
     "metadata": {},
     "output_type": "execute_result"
    }
   ],
   "source": [
    "model.evaluate(X_dev, y_dev)"
   ]
  },
  {
   "cell_type": "code",
   "execution_count": 20,
   "metadata": {},
   "outputs": [
    {
     "name": "stdout",
     "output_type": "stream",
     "text": [
      "Epoch 1/300\n"
     ]
    },
    {
     "name": "stderr",
     "output_type": "stream",
     "text": [
      "2024-02-10 00:13:20.966453: I external/local_xla/xla/service/service.cc:168] XLA service 0x7f372e37afb0 initialized for platform CUDA (this does not guarantee that XLA will be used). Devices:\n",
      "2024-02-10 00:13:20.966480: I external/local_xla/xla/service/service.cc:176]   StreamExecutor device (0): NVIDIA GeForce RTX 3060 Laptop GPU, Compute Capability 8.6\n",
      "2024-02-10 00:13:20.981221: I tensorflow/compiler/mlir/tensorflow/utils/dump_mlir_util.cc:269] disabling MLIR crash reproducer, set env var `MLIR_CRASH_REPRODUCER_DIRECTORY` to enable.\n",
      "2024-02-10 00:13:20.997926: I external/local_xla/xla/stream_executor/cuda/cuda_dnn.cc:454] Loaded cuDNN version 8904\n",
      "WARNING: All log messages before absl::InitializeLog() is called are written to STDERR\n",
      "I0000 00:00:1707504201.056906   53600 device_compiler.h:186] Compiled cluster using XLA!  This line is logged at most once for the lifetime of the process.\n"
     ]
    },
    {
     "name": "stdout",
     "output_type": "stream",
     "text": [
      "5/5 [==============================] - 6s 351ms/step - loss: 18.0641 - accuracy: 0.0625 - val_loss: 11.3496 - val_accuracy: 0.1500\n",
      "Epoch 2/300\n",
      "5/5 [==============================] - 2s 332ms/step - loss: 11.3203 - accuracy: 0.1312 - val_loss: 11.0533 - val_accuracy: 0.1500\n",
      "Epoch 3/300\n",
      "5/5 [==============================] - 2s 331ms/step - loss: 11.0054 - accuracy: 0.1625 - val_loss: 10.6710 - val_accuracy: 0.2000\n",
      "Epoch 4/300\n",
      "5/5 [==============================] - 2s 339ms/step - loss: 10.5807 - accuracy: 0.1312 - val_loss: 10.3060 - val_accuracy: 0.2000\n",
      "Epoch 5/300\n",
      "5/5 [==============================] - 2s 340ms/step - loss: 10.2629 - accuracy: 0.1500 - val_loss: 9.9575 - val_accuracy: 0.1500\n",
      "Epoch 6/300\n",
      "5/5 [==============================] - 2s 328ms/step - loss: 9.8890 - accuracy: 0.1187 - val_loss: 9.6456 - val_accuracy: 0.1500\n",
      "Epoch 7/300\n",
      "5/5 [==============================] - 2s 326ms/step - loss: 9.5699 - accuracy: 0.1813 - val_loss: 9.3691 - val_accuracy: 0.1500\n",
      "Epoch 8/300\n",
      "5/5 [==============================] - 2s 323ms/step - loss: 9.3162 - accuracy: 0.1562 - val_loss: 9.1313 - val_accuracy: 0.2000\n",
      "Epoch 9/300\n",
      "5/5 [==============================] - 2s 322ms/step - loss: 9.0899 - accuracy: 0.1875 - val_loss: 8.9272 - val_accuracy: 0.3500\n",
      "Epoch 10/300\n",
      "5/5 [==============================] - 2s 320ms/step - loss: 8.8895 - accuracy: 0.2188 - val_loss: 8.7345 - val_accuracy: 0.3000\n",
      "Epoch 11/300\n",
      "5/5 [==============================] - 2s 364ms/step - loss: 8.7070 - accuracy: 0.1875 - val_loss: 8.5499 - val_accuracy: 0.2000\n",
      "Epoch 12/300\n",
      "5/5 [==============================] - 2s 359ms/step - loss: 8.5223 - accuracy: 0.1250 - val_loss: 8.3758 - val_accuracy: 0.2000\n",
      "Epoch 13/300\n",
      "5/5 [==============================] - 2s 327ms/step - loss: 8.3286 - accuracy: 0.1937 - val_loss: 8.2077 - val_accuracy: 0.2000\n",
      "Epoch 14/300\n",
      "5/5 [==============================] - 2s 322ms/step - loss: 8.2198 - accuracy: 0.1500 - val_loss: 8.0447 - val_accuracy: 0.2500\n",
      "Epoch 15/300\n",
      "5/5 [==============================] - 2s 325ms/step - loss: 8.0419 - accuracy: 0.1750 - val_loss: 7.8880 - val_accuracy: 0.3000\n",
      "Epoch 16/300\n",
      "5/5 [==============================] - 2s 313ms/step - loss: 7.8749 - accuracy: 0.1875 - val_loss: 7.7433 - val_accuracy: 0.3500\n",
      "Epoch 17/300\n",
      "5/5 [==============================] - 2s 324ms/step - loss: 7.7645 - accuracy: 0.2188 - val_loss: 7.6040 - val_accuracy: 0.4500\n",
      "Epoch 18/300\n",
      "5/5 [==============================] - 2s 316ms/step - loss: 7.5920 - accuracy: 0.2188 - val_loss: 7.4720 - val_accuracy: 0.4500\n",
      "Epoch 19/300\n",
      "5/5 [==============================] - 2s 332ms/step - loss: 7.4652 - accuracy: 0.2625 - val_loss: 7.3442 - val_accuracy: 0.2500\n",
      "Epoch 20/300\n",
      "5/5 [==============================] - 2s 328ms/step - loss: 7.3772 - accuracy: 0.2250 - val_loss: 7.2209 - val_accuracy: 0.2500\n",
      "Epoch 21/300\n",
      "5/5 [==============================] - 2s 363ms/step - loss: 7.2382 - accuracy: 0.2688 - val_loss: 7.1022 - val_accuracy: 0.2500\n",
      "Epoch 22/300\n",
      "5/5 [==============================] - 2s 342ms/step - loss: 7.0743 - accuracy: 0.2625 - val_loss: 6.9862 - val_accuracy: 0.3000\n",
      "Epoch 23/300\n",
      "5/5 [==============================] - 2s 353ms/step - loss: 6.9996 - accuracy: 0.2750 - val_loss: 6.8806 - val_accuracy: 0.3000\n",
      "Epoch 24/300\n",
      "5/5 [==============================] - 2s 352ms/step - loss: 6.8592 - accuracy: 0.2438 - val_loss: 6.7903 - val_accuracy: 0.3000\n",
      "Epoch 25/300\n",
      "5/5 [==============================] - 2s 345ms/step - loss: 6.8256 - accuracy: 0.2250 - val_loss: 6.7121 - val_accuracy: 0.3000\n",
      "Epoch 26/300\n",
      "5/5 [==============================] - 2s 322ms/step - loss: 6.7343 - accuracy: 0.2562 - val_loss: 6.6360 - val_accuracy: 0.4000\n",
      "Epoch 27/300\n",
      "5/5 [==============================] - 2s 324ms/step - loss: 6.6550 - accuracy: 0.2500 - val_loss: 6.5605 - val_accuracy: 0.4000\n",
      "Epoch 28/300\n",
      "5/5 [==============================] - 2s 358ms/step - loss: 6.5896 - accuracy: 0.2438 - val_loss: 6.4859 - val_accuracy: 0.3500\n",
      "Epoch 29/300\n",
      "5/5 [==============================] - 2s 347ms/step - loss: 6.5189 - accuracy: 0.2875 - val_loss: 6.4142 - val_accuracy: 0.3500\n",
      "Epoch 30/300\n",
      "5/5 [==============================] - 2s 336ms/step - loss: 6.4327 - accuracy: 0.2688 - val_loss: 6.3449 - val_accuracy: 0.3500\n",
      "Epoch 31/300\n",
      "5/5 [==============================] - 2s 320ms/step - loss: 6.3780 - accuracy: 0.2875 - val_loss: 6.2731 - val_accuracy: 0.3500\n",
      "Epoch 32/300\n",
      "5/5 [==============================] - 2s 320ms/step - loss: 6.3311 - accuracy: 0.2750 - val_loss: 6.2065 - val_accuracy: 0.3500\n",
      "Epoch 33/300\n",
      "5/5 [==============================] - 2s 313ms/step - loss: 6.2322 - accuracy: 0.2812 - val_loss: 6.1409 - val_accuracy: 0.3500\n",
      "Epoch 34/300\n",
      "5/5 [==============================] - 2s 317ms/step - loss: 6.1714 - accuracy: 0.3375 - val_loss: 6.0774 - val_accuracy: 0.3500\n",
      "Epoch 35/300\n",
      "5/5 [==============================] - 2s 331ms/step - loss: 6.1199 - accuracy: 0.2438 - val_loss: 6.0127 - val_accuracy: 0.4500\n",
      "Epoch 36/300\n",
      "5/5 [==============================] - 2s 330ms/step - loss: 6.0620 - accuracy: 0.3063 - val_loss: 5.9516 - val_accuracy: 0.3000\n",
      "Epoch 37/300\n",
      "5/5 [==============================] - 2s 339ms/step - loss: 5.9991 - accuracy: 0.3063 - val_loss: 5.8925 - val_accuracy: 0.3500\n",
      "Epoch 38/300\n",
      "5/5 [==============================] - 2s 355ms/step - loss: 5.9452 - accuracy: 0.3063 - val_loss: 5.8352 - val_accuracy: 0.3500\n",
      "Epoch 39/300\n",
      "5/5 [==============================] - 2s 348ms/step - loss: 5.8991 - accuracy: 0.2750 - val_loss: 5.7791 - val_accuracy: 0.3500\n",
      "Epoch 40/300\n",
      "5/5 [==============================] - 2s 350ms/step - loss: 5.7863 - accuracy: 0.3125 - val_loss: 5.7237 - val_accuracy: 0.3500\n",
      "Epoch 41/300\n",
      "5/5 [==============================] - 2s 351ms/step - loss: 5.7821 - accuracy: 0.2750 - val_loss: 5.6701 - val_accuracy: 0.4000\n",
      "Epoch 42/300\n",
      "5/5 [==============================] - 2s 357ms/step - loss: 5.7227 - accuracy: 0.2812 - val_loss: 5.6148 - val_accuracy: 0.4000\n",
      "Epoch 43/300\n",
      "5/5 [==============================] - 2s 314ms/step - loss: 5.6908 - accuracy: 0.3250 - val_loss: 5.5606 - val_accuracy: 0.4000\n",
      "Epoch 44/300\n",
      "5/5 [==============================] - 2s 323ms/step - loss: 5.6091 - accuracy: 0.3250 - val_loss: 5.5067 - val_accuracy: 0.4000\n",
      "Epoch 45/300\n",
      "5/5 [==============================] - 2s 348ms/step - loss: 5.5399 - accuracy: 0.3063 - val_loss: 5.4543 - val_accuracy: 0.3500\n",
      "Epoch 46/300\n",
      "5/5 [==============================] - 2s 366ms/step - loss: 5.5076 - accuracy: 0.2750 - val_loss: 5.4032 - val_accuracy: 0.3500\n",
      "Epoch 47/300\n",
      "5/5 [==============================] - 2s 347ms/step - loss: 5.4827 - accuracy: 0.3000 - val_loss: 5.3551 - val_accuracy: 0.4000\n",
      "Epoch 48/300\n",
      "5/5 [==============================] - 2s 327ms/step - loss: 5.4105 - accuracy: 0.2875 - val_loss: 5.3048 - val_accuracy: 0.4000\n",
      "Epoch 49/300\n",
      "5/5 [==============================] - 2s 336ms/step - loss: 5.3615 - accuracy: 0.3375 - val_loss: 5.2558 - val_accuracy: 0.4000\n",
      "Epoch 50/300\n",
      "5/5 [==============================] - 2s 313ms/step - loss: 5.3274 - accuracy: 0.3000 - val_loss: 5.2099 - val_accuracy: 0.4500\n",
      "Epoch 51/300\n",
      "5/5 [==============================] - 2s 319ms/step - loss: 5.2878 - accuracy: 0.3250 - val_loss: 5.1630 - val_accuracy: 0.3000\n",
      "Epoch 52/300\n",
      "5/5 [==============================] - 2s 321ms/step - loss: 5.2207 - accuracy: 0.3500 - val_loss: 5.1187 - val_accuracy: 0.4000\n",
      "Epoch 53/300\n",
      "5/5 [==============================] - 2s 324ms/step - loss: 5.1411 - accuracy: 0.3938 - val_loss: 5.0745 - val_accuracy: 0.4500\n",
      "Epoch 54/300\n",
      "5/5 [==============================] - 2s 335ms/step - loss: 5.1661 - accuracy: 0.2937 - val_loss: 5.0287 - val_accuracy: 0.3000\n",
      "Epoch 55/300\n",
      "5/5 [==============================] - 2s 374ms/step - loss: 5.1112 - accuracy: 0.3250 - val_loss: 4.9867 - val_accuracy: 0.4000\n",
      "Epoch 56/300\n",
      "5/5 [==============================] - 2s 376ms/step - loss: 5.0530 - accuracy: 0.3187 - val_loss: 4.9451 - val_accuracy: 0.4000\n",
      "Epoch 57/300\n",
      "5/5 [==============================] - 2s 365ms/step - loss: 4.9981 - accuracy: 0.3500 - val_loss: 4.9041 - val_accuracy: 0.4000\n",
      "Epoch 58/300\n",
      "5/5 [==============================] - 2s 371ms/step - loss: 4.9705 - accuracy: 0.3250 - val_loss: 4.8620 - val_accuracy: 0.3500\n",
      "Epoch 59/300\n",
      "5/5 [==============================] - 2s 356ms/step - loss: 4.9188 - accuracy: 0.3438 - val_loss: 4.8212 - val_accuracy: 0.4000\n",
      "Epoch 60/300\n",
      "5/5 [==============================] - 2s 331ms/step - loss: 4.8848 - accuracy: 0.3063 - val_loss: 4.7808 - val_accuracy: 0.4000\n",
      "Epoch 61/300\n",
      "5/5 [==============================] - 2s 336ms/step - loss: 4.8306 - accuracy: 0.3500 - val_loss: 4.7422 - val_accuracy: 0.4500\n",
      "Epoch 62/300\n",
      "5/5 [==============================] - 2s 328ms/step - loss: 4.8129 - accuracy: 0.3375 - val_loss: 4.7040 - val_accuracy: 0.4500\n",
      "Epoch 63/300\n",
      "5/5 [==============================] - 2s 324ms/step - loss: 4.7490 - accuracy: 0.3500 - val_loss: 4.6679 - val_accuracy: 0.4500\n",
      "Epoch 64/300\n",
      "5/5 [==============================] - 2s 321ms/step - loss: 4.7308 - accuracy: 0.3625 - val_loss: 4.6325 - val_accuracy: 0.4500\n",
      "Epoch 65/300\n",
      "5/5 [==============================] - 2s 327ms/step - loss: 4.7034 - accuracy: 0.3562 - val_loss: 4.6005 - val_accuracy: 0.4000\n",
      "Epoch 66/300\n",
      "5/5 [==============================] - 2s 328ms/step - loss: 4.6492 - accuracy: 0.3375 - val_loss: 4.5639 - val_accuracy: 0.4000\n",
      "Epoch 67/300\n",
      "5/5 [==============================] - 2s 318ms/step - loss: 4.6137 - accuracy: 0.3625 - val_loss: 4.5215 - val_accuracy: 0.4500\n",
      "Epoch 68/300\n",
      "5/5 [==============================] - 2s 329ms/step - loss: 4.5890 - accuracy: 0.3688 - val_loss: 4.4856 - val_accuracy: 0.4000\n",
      "Epoch 69/300\n",
      "5/5 [==============================] - 2s 325ms/step - loss: 4.5339 - accuracy: 0.3812 - val_loss: 4.4515 - val_accuracy: 0.5500\n",
      "Epoch 70/300\n",
      "5/5 [==============================] - 2s 324ms/step - loss: 4.4942 - accuracy: 0.4375 - val_loss: 4.4179 - val_accuracy: 0.4500\n",
      "Epoch 71/300\n",
      "5/5 [==============================] - 2s 306ms/step - loss: 4.4679 - accuracy: 0.3750 - val_loss: 4.3884 - val_accuracy: 0.5000\n",
      "Epoch 72/300\n",
      "5/5 [==============================] - 2s 320ms/step - loss: 4.4735 - accuracy: 0.3812 - val_loss: 4.3581 - val_accuracy: 0.4500\n",
      "Epoch 73/300\n",
      "5/5 [==============================] - 2s 321ms/step - loss: 4.3885 - accuracy: 0.3938 - val_loss: 4.3290 - val_accuracy: 0.4500\n",
      "Epoch 74/300\n",
      "5/5 [==============================] - 2s 330ms/step - loss: 4.3818 - accuracy: 0.3938 - val_loss: 4.2908 - val_accuracy: 0.4000\n",
      "Epoch 75/300\n",
      "5/5 [==============================] - 2s 326ms/step - loss: 4.3579 - accuracy: 0.3750 - val_loss: 4.2534 - val_accuracy: 0.4000\n",
      "Epoch 76/300\n",
      "5/5 [==============================] - 2s 315ms/step - loss: 4.3352 - accuracy: 0.3562 - val_loss: 4.2224 - val_accuracy: 0.4500\n",
      "Epoch 77/300\n",
      "5/5 [==============================] - 2s 313ms/step - loss: 4.2773 - accuracy: 0.4000 - val_loss: 4.1931 - val_accuracy: 0.4000\n",
      "Epoch 78/300\n",
      "5/5 [==============================] - 2s 318ms/step - loss: 4.2375 - accuracy: 0.4437 - val_loss: 4.1610 - val_accuracy: 0.5000\n",
      "Epoch 79/300\n",
      "5/5 [==============================] - 2s 326ms/step - loss: 4.2113 - accuracy: 0.4500 - val_loss: 4.1310 - val_accuracy: 0.5500\n",
      "Epoch 80/300\n",
      "5/5 [==============================] - 2s 334ms/step - loss: 4.1689 - accuracy: 0.4375 - val_loss: 4.1020 - val_accuracy: 0.5000\n",
      "Epoch 81/300\n",
      "5/5 [==============================] - 2s 355ms/step - loss: 4.1427 - accuracy: 0.3625 - val_loss: 4.0747 - val_accuracy: 0.4500\n",
      "Epoch 82/300\n",
      "5/5 [==============================] - 2s 338ms/step - loss: 4.1222 - accuracy: 0.4187 - val_loss: 4.0456 - val_accuracy: 0.4500\n",
      "Epoch 83/300\n",
      "5/5 [==============================] - 2s 317ms/step - loss: 4.1052 - accuracy: 0.3938 - val_loss: 4.0156 - val_accuracy: 0.4000\n",
      "Epoch 84/300\n",
      "5/5 [==============================] - 2s 332ms/step - loss: 4.0599 - accuracy: 0.4375 - val_loss: 3.9853 - val_accuracy: 0.4000\n",
      "Epoch 85/300\n",
      "5/5 [==============================] - 2s 330ms/step - loss: 4.0340 - accuracy: 0.4500 - val_loss: 3.9562 - val_accuracy: 0.5500\n",
      "Epoch 86/300\n",
      "5/5 [==============================] - 2s 324ms/step - loss: 3.9870 - accuracy: 0.5125 - val_loss: 3.9276 - val_accuracy: 0.5000\n",
      "Epoch 87/300\n",
      "5/5 [==============================] - 2s 349ms/step - loss: 3.9495 - accuracy: 0.4500 - val_loss: 3.8994 - val_accuracy: 0.5500\n",
      "Epoch 88/300\n",
      "5/5 [==============================] - 2s 331ms/step - loss: 3.9564 - accuracy: 0.4500 - val_loss: 3.8814 - val_accuracy: 0.4000\n",
      "Epoch 89/300\n",
      "5/5 [==============================] - 2s 318ms/step - loss: 3.9115 - accuracy: 0.4500 - val_loss: 3.8596 - val_accuracy: 0.4500\n",
      "Epoch 90/300\n",
      "5/5 [==============================] - 2s 332ms/step - loss: 3.8923 - accuracy: 0.4500 - val_loss: 3.8298 - val_accuracy: 0.4500\n",
      "Epoch 91/300\n",
      "5/5 [==============================] - 2s 331ms/step - loss: 3.8728 - accuracy: 0.4688 - val_loss: 3.7963 - val_accuracy: 0.5500\n",
      "Epoch 92/300\n",
      "5/5 [==============================] - 2s 322ms/step - loss: 3.8101 - accuracy: 0.4750 - val_loss: 3.7680 - val_accuracy: 0.4000\n",
      "Epoch 93/300\n",
      "5/5 [==============================] - 2s 323ms/step - loss: 3.8341 - accuracy: 0.4250 - val_loss: 3.7453 - val_accuracy: 0.5000\n",
      "Epoch 94/300\n",
      "5/5 [==============================] - 2s 319ms/step - loss: 3.7718 - accuracy: 0.4437 - val_loss: 3.7222 - val_accuracy: 0.5500\n",
      "Epoch 95/300\n",
      "5/5 [==============================] - 2s 315ms/step - loss: 3.7779 - accuracy: 0.4563 - val_loss: 3.7016 - val_accuracy: 0.4500\n",
      "Epoch 96/300\n",
      "5/5 [==============================] - 2s 321ms/step - loss: 3.7699 - accuracy: 0.4187 - val_loss: 3.6759 - val_accuracy: 0.4500\n",
      "Epoch 97/300\n",
      "5/5 [==============================] - 2s 327ms/step - loss: 3.6957 - accuracy: 0.5188 - val_loss: 3.6530 - val_accuracy: 0.4500\n",
      "Epoch 98/300\n",
      "5/5 [==============================] - 2s 333ms/step - loss: 3.6893 - accuracy: 0.5375 - val_loss: 3.6327 - val_accuracy: 0.4500\n",
      "Epoch 99/300\n",
      "5/5 [==============================] - 2s 325ms/step - loss: 3.6662 - accuracy: 0.4625 - val_loss: 3.6039 - val_accuracy: 0.5500\n",
      "Epoch 100/300\n",
      "5/5 [==============================] - 2s 325ms/step - loss: 3.6387 - accuracy: 0.4938 - val_loss: 3.5802 - val_accuracy: 0.5000\n",
      "Epoch 101/300\n",
      "5/5 [==============================] - 2s 321ms/step - loss: 3.5809 - accuracy: 0.4750 - val_loss: 3.5590 - val_accuracy: 0.5000\n",
      "Epoch 102/300\n",
      "5/5 [==============================] - 2s 331ms/step - loss: 3.5582 - accuracy: 0.5125 - val_loss: 3.5425 - val_accuracy: 0.4500\n",
      "Epoch 103/300\n",
      "5/5 [==============================] - 2s 335ms/step - loss: 3.5451 - accuracy: 0.4875 - val_loss: 3.5242 - val_accuracy: 0.5000\n",
      "Epoch 104/300\n",
      "5/5 [==============================] - 2s 344ms/step - loss: 3.5607 - accuracy: 0.4812 - val_loss: 3.5012 - val_accuracy: 0.6000\n",
      "Epoch 105/300\n",
      "5/5 [==============================] - 2s 323ms/step - loss: 3.5318 - accuracy: 0.4625 - val_loss: 3.4762 - val_accuracy: 0.6000\n",
      "Epoch 106/300\n",
      "5/5 [==============================] - 2s 326ms/step - loss: 3.4944 - accuracy: 0.5125 - val_loss: 3.4528 - val_accuracy: 0.6000\n",
      "Epoch 107/300\n",
      "5/5 [==============================] - 2s 313ms/step - loss: 3.4843 - accuracy: 0.4938 - val_loss: 3.4395 - val_accuracy: 0.5500\n",
      "Epoch 108/300\n",
      "5/5 [==============================] - 2s 327ms/step - loss: 3.4619 - accuracy: 0.4875 - val_loss: 3.4159 - val_accuracy: 0.5000\n",
      "Epoch 109/300\n",
      "5/5 [==============================] - 2s 325ms/step - loss: 3.4365 - accuracy: 0.4875 - val_loss: 3.3930 - val_accuracy: 0.6000\n",
      "Epoch 110/300\n",
      "5/5 [==============================] - 2s 349ms/step - loss: 3.3977 - accuracy: 0.5437 - val_loss: 3.3729 - val_accuracy: 0.5500\n",
      "Epoch 111/300\n",
      "5/5 [==============================] - 2s 329ms/step - loss: 3.4079 - accuracy: 0.4875 - val_loss: 3.3598 - val_accuracy: 0.5500\n",
      "Epoch 112/300\n",
      "5/5 [==============================] - 2s 334ms/step - loss: 3.3704 - accuracy: 0.5375 - val_loss: 3.3394 - val_accuracy: 0.6000\n",
      "Epoch 113/300\n",
      "5/5 [==============================] - 2s 334ms/step - loss: 3.3556 - accuracy: 0.5188 - val_loss: 3.3179 - val_accuracy: 0.6000\n",
      "Epoch 114/300\n",
      "5/5 [==============================] - 2s 323ms/step - loss: 3.3796 - accuracy: 0.5188 - val_loss: 3.2950 - val_accuracy: 0.6000\n",
      "Epoch 115/300\n",
      "5/5 [==============================] - 2s 334ms/step - loss: 3.3095 - accuracy: 0.5312 - val_loss: 3.2798 - val_accuracy: 0.5500\n",
      "Epoch 116/300\n",
      "5/5 [==============================] - 2s 348ms/step - loss: 3.2885 - accuracy: 0.5250 - val_loss: 3.2613 - val_accuracy: 0.6000\n",
      "Epoch 117/300\n",
      "5/5 [==============================] - 2s 320ms/step - loss: 3.2826 - accuracy: 0.5875 - val_loss: 3.2425 - val_accuracy: 0.6000\n",
      "Epoch 118/300\n",
      "5/5 [==============================] - 2s 316ms/step - loss: 3.2634 - accuracy: 0.5188 - val_loss: 3.2279 - val_accuracy: 0.6000\n",
      "Epoch 119/300\n",
      "5/5 [==============================] - 2s 314ms/step - loss: 3.2276 - accuracy: 0.5312 - val_loss: 3.2140 - val_accuracy: 0.6000\n",
      "Epoch 120/300\n",
      "5/5 [==============================] - 2s 313ms/step - loss: 3.2293 - accuracy: 0.4812 - val_loss: 3.1888 - val_accuracy: 0.6000\n",
      "Epoch 121/300\n",
      "5/5 [==============================] - 2s 318ms/step - loss: 3.2013 - accuracy: 0.5437 - val_loss: 3.1698 - val_accuracy: 0.6000\n",
      "Epoch 122/300\n",
      "5/5 [==============================] - 2s 319ms/step - loss: 3.1476 - accuracy: 0.5562 - val_loss: 3.1560 - val_accuracy: 0.5500\n",
      "Epoch 123/300\n",
      "5/5 [==============================] - 2s 316ms/step - loss: 3.1684 - accuracy: 0.5188 - val_loss: 3.1441 - val_accuracy: 0.6000\n",
      "Epoch 124/300\n",
      "5/5 [==============================] - 2s 316ms/step - loss: 3.1486 - accuracy: 0.5437 - val_loss: 3.1252 - val_accuracy: 0.6000\n",
      "Epoch 125/300\n",
      "5/5 [==============================] - 2s 308ms/step - loss: 3.1263 - accuracy: 0.5250 - val_loss: 3.1089 - val_accuracy: 0.6000\n",
      "Epoch 126/300\n",
      "5/5 [==============================] - 2s 321ms/step - loss: 3.1303 - accuracy: 0.5625 - val_loss: 3.0899 - val_accuracy: 0.6500\n",
      "Epoch 127/300\n",
      "5/5 [==============================] - 2s 327ms/step - loss: 3.0898 - accuracy: 0.5625 - val_loss: 3.0743 - val_accuracy: 0.6000\n",
      "Epoch 128/300\n",
      "5/5 [==============================] - 2s 313ms/step - loss: 3.0893 - accuracy: 0.5688 - val_loss: 3.0663 - val_accuracy: 0.6000\n",
      "Epoch 129/300\n",
      "5/5 [==============================] - 2s 315ms/step - loss: 3.0427 - accuracy: 0.5437 - val_loss: 3.0498 - val_accuracy: 0.6000\n",
      "Epoch 130/300\n",
      "5/5 [==============================] - 2s 323ms/step - loss: 3.0589 - accuracy: 0.5437 - val_loss: 3.0213 - val_accuracy: 0.6000\n",
      "Epoch 131/300\n",
      "5/5 [==============================] - 1s 308ms/step - loss: 3.0266 - accuracy: 0.5437 - val_loss: 3.0075 - val_accuracy: 0.6000\n",
      "Epoch 132/300\n",
      "5/5 [==============================] - 2s 320ms/step - loss: 3.0333 - accuracy: 0.5562 - val_loss: 3.0000 - val_accuracy: 0.6000\n",
      "Epoch 133/300\n",
      "5/5 [==============================] - 2s 317ms/step - loss: 3.0004 - accuracy: 0.6000 - val_loss: 2.9879 - val_accuracy: 0.6000\n",
      "Epoch 134/300\n",
      "5/5 [==============================] - 2s 319ms/step - loss: 3.0107 - accuracy: 0.5750 - val_loss: 2.9716 - val_accuracy: 0.6000\n",
      "Epoch 135/300\n",
      "5/5 [==============================] - 2s 316ms/step - loss: 2.9577 - accuracy: 0.6000 - val_loss: 2.9562 - val_accuracy: 0.6000\n",
      "Epoch 136/300\n",
      "5/5 [==============================] - 2s 323ms/step - loss: 2.9512 - accuracy: 0.5625 - val_loss: 2.9364 - val_accuracy: 0.6500\n",
      "Epoch 137/300\n",
      "5/5 [==============================] - 2s 327ms/step - loss: 2.9434 - accuracy: 0.5500 - val_loss: 2.9300 - val_accuracy: 0.6000\n",
      "Epoch 138/300\n",
      "5/5 [==============================] - 2s 313ms/step - loss: 2.9183 - accuracy: 0.5688 - val_loss: 2.9123 - val_accuracy: 0.6000\n",
      "Epoch 139/300\n",
      "5/5 [==============================] - 2s 313ms/step - loss: 2.9072 - accuracy: 0.5875 - val_loss: 2.8971 - val_accuracy: 0.6000\n",
      "Epoch 140/300\n",
      "5/5 [==============================] - 2s 318ms/step - loss: 2.8986 - accuracy: 0.6000 - val_loss: 2.8814 - val_accuracy: 0.6000\n",
      "Epoch 141/300\n",
      "5/5 [==============================] - 2s 315ms/step - loss: 2.8647 - accuracy: 0.5437 - val_loss: 2.8738 - val_accuracy: 0.6000\n",
      "Epoch 142/300\n",
      "5/5 [==============================] - 2s 319ms/step - loss: 2.8542 - accuracy: 0.6187 - val_loss: 2.8675 - val_accuracy: 0.6000\n",
      "Epoch 143/300\n",
      "5/5 [==============================] - 2s 308ms/step - loss: 2.8360 - accuracy: 0.5813 - val_loss: 2.8472 - val_accuracy: 0.6000\n",
      "Epoch 144/300\n",
      "5/5 [==============================] - 2s 313ms/step - loss: 2.8350 - accuracy: 0.5813 - val_loss: 2.8354 - val_accuracy: 0.6000\n",
      "Epoch 145/300\n",
      "5/5 [==============================] - 2s 317ms/step - loss: 2.8124 - accuracy: 0.5813 - val_loss: 2.8246 - val_accuracy: 0.6000\n",
      "Epoch 146/300\n",
      "5/5 [==============================] - 2s 328ms/step - loss: 2.7889 - accuracy: 0.5813 - val_loss: 2.8075 - val_accuracy: 0.6000\n",
      "Epoch 147/300\n",
      "5/5 [==============================] - 2s 335ms/step - loss: 2.7912 - accuracy: 0.6250 - val_loss: 2.7916 - val_accuracy: 0.6500\n",
      "Epoch 148/300\n",
      "5/5 [==============================] - 2s 352ms/step - loss: 2.7709 - accuracy: 0.6187 - val_loss: 2.7866 - val_accuracy: 0.6000\n",
      "Epoch 149/300\n",
      "5/5 [==============================] - 2s 350ms/step - loss: 2.7615 - accuracy: 0.5688 - val_loss: 2.7800 - val_accuracy: 0.6000\n",
      "Epoch 150/300\n",
      "5/5 [==============================] - 2s 352ms/step - loss: 2.7742 - accuracy: 0.5437 - val_loss: 2.7541 - val_accuracy: 0.6000\n",
      "Epoch 151/300\n",
      "5/5 [==============================] - 2s 350ms/step - loss: 2.7267 - accuracy: 0.5750 - val_loss: 2.7398 - val_accuracy: 0.6500\n",
      "Epoch 152/300\n",
      "5/5 [==============================] - 2s 351ms/step - loss: 2.7333 - accuracy: 0.6500 - val_loss: 2.7253 - val_accuracy: 0.7000\n",
      "Epoch 153/300\n",
      "5/5 [==============================] - 2s 354ms/step - loss: 2.7044 - accuracy: 0.6250 - val_loss: 2.7304 - val_accuracy: 0.6000\n",
      "Epoch 154/300\n",
      "5/5 [==============================] - 2s 351ms/step - loss: 2.7199 - accuracy: 0.6375 - val_loss: 2.7157 - val_accuracy: 0.6000\n",
      "Epoch 155/300\n",
      "5/5 [==============================] - 2s 353ms/step - loss: 2.6488 - accuracy: 0.6562 - val_loss: 2.7006 - val_accuracy: 0.6500\n",
      "Epoch 156/300\n",
      "5/5 [==============================] - 2s 353ms/step - loss: 2.6836 - accuracy: 0.5938 - val_loss: 2.6771 - val_accuracy: 0.6500\n",
      "Epoch 157/300\n",
      "5/5 [==============================] - 2s 348ms/step - loss: 2.6555 - accuracy: 0.6125 - val_loss: 2.6700 - val_accuracy: 0.6000\n",
      "Epoch 158/300\n",
      "5/5 [==============================] - 2s 346ms/step - loss: 2.6538 - accuracy: 0.6250 - val_loss: 2.6571 - val_accuracy: 0.6500\n",
      "Epoch 159/300\n",
      "5/5 [==============================] - 2s 362ms/step - loss: 2.6285 - accuracy: 0.6000 - val_loss: 2.6419 - val_accuracy: 0.6500\n",
      "Epoch 160/300\n",
      "5/5 [==============================] - 2s 364ms/step - loss: 2.6062 - accuracy: 0.6250 - val_loss: 2.6333 - val_accuracy: 0.6000\n",
      "Epoch 161/300\n",
      "5/5 [==============================] - 2s 372ms/step - loss: 2.6085 - accuracy: 0.6250 - val_loss: 2.6244 - val_accuracy: 0.6000\n",
      "Epoch 162/300\n",
      "5/5 [==============================] - 2s 348ms/step - loss: 2.5724 - accuracy: 0.6562 - val_loss: 2.6185 - val_accuracy: 0.6500\n",
      "Epoch 163/300\n",
      "5/5 [==============================] - 2s 353ms/step - loss: 2.5840 - accuracy: 0.6187 - val_loss: 2.6012 - val_accuracy: 0.6500\n",
      "Epoch 164/300\n",
      "5/5 [==============================] - 2s 348ms/step - loss: 2.5740 - accuracy: 0.6562 - val_loss: 2.5957 - val_accuracy: 0.6000\n",
      "Epoch 165/300\n",
      "5/5 [==============================] - 2s 344ms/step - loss: 2.5468 - accuracy: 0.6313 - val_loss: 2.5775 - val_accuracy: 0.6500\n",
      "Epoch 166/300\n",
      "5/5 [==============================] - 2s 347ms/step - loss: 2.5459 - accuracy: 0.6125 - val_loss: 2.5638 - val_accuracy: 0.6500\n",
      "Epoch 167/300\n",
      "5/5 [==============================] - 2s 349ms/step - loss: 2.5232 - accuracy: 0.6438 - val_loss: 2.5666 - val_accuracy: 0.6500\n",
      "Epoch 168/300\n",
      "5/5 [==============================] - 2s 353ms/step - loss: 2.5282 - accuracy: 0.6313 - val_loss: 2.5751 - val_accuracy: 0.6500\n",
      "Epoch 169/300\n",
      "5/5 [==============================] - 2s 352ms/step - loss: 2.5288 - accuracy: 0.6687 - val_loss: 2.5326 - val_accuracy: 0.6500\n",
      "Epoch 170/300\n",
      "5/5 [==============================] - 2s 328ms/step - loss: 2.4976 - accuracy: 0.6500 - val_loss: 2.5167 - val_accuracy: 0.6500\n",
      "Epoch 171/300\n",
      "5/5 [==============================] - 2s 345ms/step - loss: 2.4992 - accuracy: 0.6500 - val_loss: 2.5130 - val_accuracy: 0.6500\n",
      "Epoch 172/300\n",
      "5/5 [==============================] - 2s 354ms/step - loss: 2.4736 - accuracy: 0.6438 - val_loss: 2.5159 - val_accuracy: 0.6500\n",
      "Epoch 173/300\n",
      "5/5 [==============================] - 2s 353ms/step - loss: 2.4597 - accuracy: 0.6625 - val_loss: 2.5148 - val_accuracy: 0.6500\n",
      "Epoch 174/300\n",
      "5/5 [==============================] - 2s 326ms/step - loss: 2.4638 - accuracy: 0.6562 - val_loss: 2.4973 - val_accuracy: 0.6500\n",
      "Epoch 175/300\n",
      "5/5 [==============================] - 2s 311ms/step - loss: 2.4195 - accuracy: 0.6875 - val_loss: 2.4764 - val_accuracy: 0.6500\n",
      "Epoch 176/300\n",
      "5/5 [==============================] - 2s 326ms/step - loss: 2.4447 - accuracy: 0.6812 - val_loss: 2.4611 - val_accuracy: 0.6500\n",
      "Epoch 177/300\n",
      "5/5 [==============================] - 2s 323ms/step - loss: 2.4243 - accuracy: 0.6500 - val_loss: 2.4600 - val_accuracy: 0.6500\n",
      "Epoch 178/300\n",
      "5/5 [==============================] - 2s 326ms/step - loss: 2.4224 - accuracy: 0.6500 - val_loss: 2.4517 - val_accuracy: 0.6500\n",
      "Epoch 179/300\n",
      "5/5 [==============================] - 2s 342ms/step - loss: 2.3974 - accuracy: 0.6625 - val_loss: 2.4474 - val_accuracy: 0.6500\n",
      "Epoch 180/300\n",
      "5/5 [==============================] - 2s 347ms/step - loss: 2.3836 - accuracy: 0.6625 - val_loss: 2.4526 - val_accuracy: 0.6500\n",
      "Epoch 181/300\n",
      "5/5 [==============================] - 2s 352ms/step - loss: 2.4129 - accuracy: 0.6375 - val_loss: 2.4403 - val_accuracy: 0.6500\n",
      "Epoch 182/300\n",
      "5/5 [==============================] - 2s 351ms/step - loss: 2.3891 - accuracy: 0.6250 - val_loss: 2.4105 - val_accuracy: 0.6500\n",
      "Epoch 183/300\n",
      "5/5 [==============================] - 2s 351ms/step - loss: 2.3691 - accuracy: 0.6812 - val_loss: 2.4047 - val_accuracy: 0.6500\n",
      "Epoch 184/300\n",
      "5/5 [==============================] - 2s 379ms/step - loss: 2.3473 - accuracy: 0.6625 - val_loss: 2.3987 - val_accuracy: 0.6500\n",
      "Epoch 185/300\n",
      "5/5 [==============================] - 2s 353ms/step - loss: 2.3380 - accuracy: 0.6687 - val_loss: 2.3819 - val_accuracy: 0.6500\n",
      "Epoch 186/300\n",
      "5/5 [==============================] - 2s 338ms/step - loss: 2.3414 - accuracy: 0.6875 - val_loss: 2.3857 - val_accuracy: 0.6500\n",
      "Epoch 187/300\n",
      "5/5 [==============================] - 2s 325ms/step - loss: 2.2972 - accuracy: 0.6625 - val_loss: 2.3783 - val_accuracy: 0.6500\n",
      "Epoch 188/300\n",
      "5/5 [==============================] - 2s 334ms/step - loss: 2.2868 - accuracy: 0.7000 - val_loss: 2.3655 - val_accuracy: 0.6500\n",
      "Epoch 189/300\n",
      "5/5 [==============================] - 2s 330ms/step - loss: 2.2714 - accuracy: 0.7312 - val_loss: 2.3428 - val_accuracy: 0.7000\n",
      "Epoch 190/300\n",
      "5/5 [==============================] - 2s 329ms/step - loss: 2.2874 - accuracy: 0.7437 - val_loss: 2.3304 - val_accuracy: 0.7000\n",
      "Epoch 191/300\n",
      "5/5 [==============================] - 2s 332ms/step - loss: 2.2801 - accuracy: 0.6875 - val_loss: 2.3389 - val_accuracy: 0.6500\n",
      "Epoch 192/300\n",
      "5/5 [==============================] - 2s 333ms/step - loss: 2.2722 - accuracy: 0.7063 - val_loss: 2.3232 - val_accuracy: 0.6500\n",
      "Epoch 193/300\n",
      "5/5 [==============================] - 2s 331ms/step - loss: 2.2505 - accuracy: 0.7312 - val_loss: 2.3189 - val_accuracy: 0.6500\n",
      "Epoch 194/300\n",
      "5/5 [==============================] - 2s 331ms/step - loss: 2.2203 - accuracy: 0.7312 - val_loss: 2.2991 - val_accuracy: 0.7000\n",
      "Epoch 195/300\n",
      "5/5 [==============================] - 2s 333ms/step - loss: 2.2261 - accuracy: 0.7250 - val_loss: 2.2920 - val_accuracy: 0.7000\n",
      "Epoch 196/300\n",
      "5/5 [==============================] - 2s 333ms/step - loss: 2.2595 - accuracy: 0.6938 - val_loss: 2.3016 - val_accuracy: 0.7000\n",
      "Epoch 197/300\n",
      "5/5 [==============================] - 2s 329ms/step - loss: 2.2416 - accuracy: 0.7000 - val_loss: 2.2901 - val_accuracy: 0.6500\n",
      "Epoch 198/300\n",
      "5/5 [==============================] - 2s 353ms/step - loss: 2.2157 - accuracy: 0.7000 - val_loss: 2.2657 - val_accuracy: 0.6500\n",
      "Epoch 199/300\n",
      "5/5 [==============================] - 2s 330ms/step - loss: 2.2406 - accuracy: 0.7063 - val_loss: 2.2664 - val_accuracy: 0.7000\n",
      "Epoch 200/300\n",
      "5/5 [==============================] - 2s 330ms/step - loss: 2.2138 - accuracy: 0.6875 - val_loss: 2.2650 - val_accuracy: 0.7000\n",
      "Epoch 201/300\n",
      "5/5 [==============================] - 2s 332ms/step - loss: 2.1679 - accuracy: 0.7063 - val_loss: 2.2599 - val_accuracy: 0.7000\n",
      "Epoch 202/300\n",
      "5/5 [==============================] - 2s 326ms/step - loss: 2.1872 - accuracy: 0.7250 - val_loss: 2.2332 - val_accuracy: 0.6500\n",
      "Epoch 203/300\n",
      "5/5 [==============================] - 2s 338ms/step - loss: 2.1614 - accuracy: 0.7937 - val_loss: 2.2317 - val_accuracy: 0.6500\n",
      "Epoch 204/300\n",
      "5/5 [==============================] - 2s 332ms/step - loss: 2.1759 - accuracy: 0.7375 - val_loss: 2.2306 - val_accuracy: 0.7000\n",
      "Epoch 205/300\n",
      "5/5 [==============================] - 2s 333ms/step - loss: 2.1573 - accuracy: 0.7312 - val_loss: 2.2275 - val_accuracy: 0.7000\n",
      "Epoch 206/300\n",
      "5/5 [==============================] - 2s 336ms/step - loss: 2.1460 - accuracy: 0.7437 - val_loss: 2.2063 - val_accuracy: 0.7000\n",
      "Epoch 207/300\n",
      "5/5 [==============================] - 2s 335ms/step - loss: 2.1417 - accuracy: 0.7312 - val_loss: 2.1895 - val_accuracy: 0.7000\n",
      "Epoch 208/300\n",
      "5/5 [==============================] - 2s 328ms/step - loss: 2.1342 - accuracy: 0.6938 - val_loss: 2.1897 - val_accuracy: 0.7000\n",
      "Epoch 209/300\n",
      "5/5 [==============================] - 2s 333ms/step - loss: 2.1138 - accuracy: 0.7250 - val_loss: 2.1887 - val_accuracy: 0.7000\n",
      "Epoch 210/300\n",
      "5/5 [==============================] - 2s 330ms/step - loss: 2.1283 - accuracy: 0.7312 - val_loss: 2.1824 - val_accuracy: 0.7000\n",
      "Epoch 211/300\n",
      "5/5 [==============================] - 2s 333ms/step - loss: 2.1347 - accuracy: 0.7000 - val_loss: 2.1841 - val_accuracy: 0.7000\n",
      "Epoch 212/300\n",
      "5/5 [==============================] - 2s 332ms/step - loss: 2.1120 - accuracy: 0.7250 - val_loss: 2.1857 - val_accuracy: 0.7000\n",
      "Epoch 213/300\n",
      "5/5 [==============================] - 2s 333ms/step - loss: 2.0991 - accuracy: 0.7063 - val_loss: 2.1615 - val_accuracy: 0.6500\n",
      "Epoch 214/300\n",
      "5/5 [==============================] - 2s 329ms/step - loss: 2.0688 - accuracy: 0.7437 - val_loss: 2.1354 - val_accuracy: 0.7000\n",
      "Epoch 215/300\n",
      "5/5 [==============================] - 2s 330ms/step - loss: 2.0650 - accuracy: 0.7812 - val_loss: 2.1423 - val_accuracy: 0.7000\n",
      "Epoch 216/300\n",
      "5/5 [==============================] - 2s 328ms/step - loss: 2.0610 - accuracy: 0.7437 - val_loss: 2.1739 - val_accuracy: 0.7000\n",
      "Epoch 217/300\n",
      "5/5 [==============================] - 2s 338ms/step - loss: 2.0517 - accuracy: 0.7125 - val_loss: 2.1293 - val_accuracy: 0.7000\n",
      "Epoch 218/300\n",
      "5/5 [==============================] - 2s 332ms/step - loss: 2.0443 - accuracy: 0.7688 - val_loss: 2.1140 - val_accuracy: 0.7000\n",
      "Epoch 219/300\n",
      "5/5 [==============================] - 2s 329ms/step - loss: 2.0744 - accuracy: 0.7375 - val_loss: 2.1262 - val_accuracy: 0.7000\n",
      "Epoch 220/300\n",
      "5/5 [==============================] - 2s 333ms/step - loss: 2.0479 - accuracy: 0.7125 - val_loss: 2.1325 - val_accuracy: 0.7000\n",
      "Epoch 221/300\n",
      "5/5 [==============================] - 2s 358ms/step - loss: 2.0442 - accuracy: 0.7563 - val_loss: 2.0911 - val_accuracy: 0.7500\n",
      "Epoch 222/300\n",
      "5/5 [==============================] - 2s 334ms/step - loss: 2.0120 - accuracy: 0.7437 - val_loss: 2.0924 - val_accuracy: 0.7000\n",
      "Epoch 223/300\n",
      "5/5 [==============================] - 2s 331ms/step - loss: 2.0001 - accuracy: 0.7563 - val_loss: 2.1075 - val_accuracy: 0.7000\n",
      "Epoch 224/300\n",
      "5/5 [==============================] - 2s 333ms/step - loss: 1.9865 - accuracy: 0.7688 - val_loss: 2.0813 - val_accuracy: 0.7000\n",
      "Epoch 225/300\n",
      "5/5 [==============================] - 2s 332ms/step - loss: 1.9433 - accuracy: 0.8000 - val_loss: 2.0734 - val_accuracy: 0.7000\n",
      "Epoch 226/300\n",
      "5/5 [==============================] - 2s 329ms/step - loss: 1.9701 - accuracy: 0.7750 - val_loss: 2.0678 - val_accuracy: 0.7000\n",
      "Epoch 227/300\n",
      "5/5 [==============================] - 2s 343ms/step - loss: 1.9508 - accuracy: 0.7875 - val_loss: 2.0844 - val_accuracy: 0.7000\n",
      "Epoch 228/300\n",
      "5/5 [==============================] - 2s 329ms/step - loss: 1.9445 - accuracy: 0.7812 - val_loss: 2.0740 - val_accuracy: 0.7000\n",
      "Epoch 229/300\n",
      "5/5 [==============================] - 2s 366ms/step - loss: 1.9680 - accuracy: 0.7750 - val_loss: 2.0572 - val_accuracy: 0.7000\n",
      "Epoch 230/300\n",
      "5/5 [==============================] - 2s 334ms/step - loss: 1.9476 - accuracy: 0.7875 - val_loss: 2.0452 - val_accuracy: 0.7000\n",
      "Epoch 231/300\n",
      "5/5 [==============================] - 2s 337ms/step - loss: 1.9304 - accuracy: 0.7875 - val_loss: 2.0331 - val_accuracy: 0.7000\n",
      "Epoch 232/300\n",
      "5/5 [==============================] - 2s 331ms/step - loss: 1.9058 - accuracy: 0.7500 - val_loss: 2.0195 - val_accuracy: 0.7500\n",
      "Epoch 233/300\n",
      "5/5 [==============================] - 2s 328ms/step - loss: 1.9084 - accuracy: 0.8125 - val_loss: 2.0291 - val_accuracy: 0.7000\n",
      "Epoch 234/300\n",
      "5/5 [==============================] - 2s 336ms/step - loss: 1.9420 - accuracy: 0.7937 - val_loss: 2.0365 - val_accuracy: 0.7000\n",
      "Epoch 235/300\n",
      "5/5 [==============================] - 2s 337ms/step - loss: 1.9104 - accuracy: 0.7563 - val_loss: 2.0376 - val_accuracy: 0.7000\n"
     ]
    }
   ],
   "source": [
    "history = model.fit(\n",
    "    X_train,\n",
    "    y_train,\n",
    "    validation_data=(X_dev, y_dev),\n",
    "    epochs=300,\n",
    "    batch_size=batch_size,\n",
    "    callbacks=[early_stopping],\n",
    ")"
   ]
  },
  {
   "cell_type": "code",
   "execution_count": 21,
   "metadata": {},
   "outputs": [
    {
     "name": "stdout",
     "output_type": "stream",
     "text": [
      "INFO:tensorflow:Assets written to: pdf_classifier/assets\n"
     ]
    },
    {
     "name": "stderr",
     "output_type": "stream",
     "text": [
      "INFO:tensorflow:Assets written to: pdf_classifier/assets\n"
     ]
    }
   ],
   "source": [
    "model.save(\"pdf_classifier\")"
   ]
  },
  {
   "cell_type": "code",
   "execution_count": 22,
   "metadata": {},
   "outputs": [
    {
     "name": "stdout",
     "output_type": "stream",
     "text": [
      "1/1 [==============================] - 0s 194ms/step - loss: 2.0337 - accuracy: 0.6500\n",
      "1/1 [==============================] - 0s 472ms/step\n"
     ]
    }
   ],
   "source": [
    "model.evaluate(X_test, y_test)\n",
    "y = model.predict(X_test)\n",
    "predicted_indices = np.argmax(y, axis=-1)\n",
    "original_labels = label_encoder.inverse_transform(predicted_indices)"
   ]
  },
  {
   "cell_type": "code",
   "execution_count": 23,
   "metadata": {},
   "outputs": [
    {
     "name": "stdout",
     "output_type": "stream",
     "text": [
      "['scientific' 'medical' 'medical' 'government' 'scientific' 'creative'\n",
      " 'scientific' 'business' 'business' 'creative' 'business' 'educational'\n",
      " 'technical' 'business' 'financial' 'government' 'government' 'financial'\n",
      " 'financial' 'creative']\n"
     ]
    }
   ],
   "source": [
    "print(original_labels)"
   ]
  },
  {
   "cell_type": "code",
   "execution_count": 24,
   "metadata": {},
   "outputs": [],
   "source": [
    "import pickle\n",
    "\n",
    "# Save the label encoder\n",
    "with open(\"label_encoder.pkl\", \"wb\") as f:\n",
    "    pickle.dump(label_encoder, f)"
   ]
  }
 ],
 "metadata": {
  "kernelspec": {
   "display_name": "Python 3",
   "language": "python",
   "name": "python3"
  },
  "language_info": {
   "codemirror_mode": {
    "name": "ipython",
    "version": 3
   },
   "file_extension": ".py",
   "mimetype": "text/x-python",
   "name": "python",
   "nbconvert_exporter": "python",
   "pygments_lexer": "ipython3",
   "version": "3.9.18"
  }
 },
 "nbformat": 4,
 "nbformat_minor": 2
}
