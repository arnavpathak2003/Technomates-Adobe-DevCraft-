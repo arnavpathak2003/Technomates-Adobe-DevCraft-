{
 "cells": [
  {
   "cell_type": "code",
   "execution_count": 1,
   "metadata": {},
   "outputs": [
    {
     "name": "stderr",
     "output_type": "stream",
     "text": [
      "2024-02-09 09:43:45.399933: I tensorflow/core/util/port.cc:113] oneDNN custom operations are on. You may see slightly different numerical results due to floating-point round-off errors from different computation orders. To turn them off, set the environment variable `TF_ENABLE_ONEDNN_OPTS=0`.\n",
      "2024-02-09 09:43:45.596160: E external/local_xla/xla/stream_executor/cuda/cuda_dnn.cc:9261] Unable to register cuDNN factory: Attempting to register factory for plugin cuDNN when one has already been registered\n",
      "2024-02-09 09:43:45.596202: E external/local_xla/xla/stream_executor/cuda/cuda_fft.cc:607] Unable to register cuFFT factory: Attempting to register factory for plugin cuFFT when one has already been registered\n",
      "2024-02-09 09:43:45.608003: E external/local_xla/xla/stream_executor/cuda/cuda_blas.cc:1515] Unable to register cuBLAS factory: Attempting to register factory for plugin cuBLAS when one has already been registered\n",
      "2024-02-09 09:43:45.631432: I tensorflow/core/platform/cpu_feature_guard.cc:182] This TensorFlow binary is optimized to use available CPU instructions in performance-critical operations.\n",
      "To enable the following instructions: AVX2 AVX_VNNI FMA, in other operations, rebuild TensorFlow with the appropriate compiler flags.\n",
      "2024-02-09 09:43:46.485210: W tensorflow/compiler/tf2tensorrt/utils/py_utils.cc:38] TF-TRT Warning: Could not find TensorRT\n"
     ]
    }
   ],
   "source": [
    "import pandas as pd\n",
    "import tensorflow as tf\n",
    "import tensorflow_hub as hub\n",
    "import tensorflow_text as text\n",
    "import re\n",
    "from sklearn.preprocessing import LabelEncoder\n",
    "from sklearn.model_selection import train_test_split\n",
    "from tensorflow.keras.utils import to_categorical\n",
    "from tensorflow.keras.callbacks import EarlyStopping, ModelCheckpoint, TensorBoard\n",
    "from tensorflow.keras.optimizers.schedules import PolynomialDecay\n",
    "from tensorflow.keras import regularizers"
   ]
  },
  {
   "cell_type": "code",
   "execution_count": 2,
   "metadata": {},
   "outputs": [],
   "source": [
    "df = pd.read_csv(\"arnav.csv\")"
   ]
  },
  {
   "cell_type": "code",
   "execution_count": 3,
   "metadata": {},
   "outputs": [],
   "source": [
    "def preprocess(text):\n",
    "    text = re.sub(\"[_\\n]\", \" \", text)\n",
    "    return re.sub(r\" +\", \"\", text)\n",
    "\n",
    "\n",
    "df[\"text\"] = df[\"text\"].apply(preprocess)"
   ]
  },
  {
   "cell_type": "code",
   "execution_count": 4,
   "metadata": {},
   "outputs": [
    {
     "name": "stderr",
     "output_type": "stream",
     "text": [
      "2024-02-09 09:43:50.882830: I external/local_xla/xla/stream_executor/cuda/cuda_executor.cc:901] successful NUMA node read from SysFS had negative value (-1), but there must be at least one NUMA node, so returning NUMA node zero. See more at https://github.com/torvalds/linux/blob/v6.0/Documentation/ABI/testing/sysfs-bus-pci#L344-L355\n",
      "2024-02-09 09:43:50.988097: I external/local_xla/xla/stream_executor/cuda/cuda_executor.cc:901] successful NUMA node read from SysFS had negative value (-1), but there must be at least one NUMA node, so returning NUMA node zero. See more at https://github.com/torvalds/linux/blob/v6.0/Documentation/ABI/testing/sysfs-bus-pci#L344-L355\n",
      "2024-02-09 09:43:50.988259: I external/local_xla/xla/stream_executor/cuda/cuda_executor.cc:901] successful NUMA node read from SysFS had negative value (-1), but there must be at least one NUMA node, so returning NUMA node zero. See more at https://github.com/torvalds/linux/blob/v6.0/Documentation/ABI/testing/sysfs-bus-pci#L344-L355\n",
      "2024-02-09 09:43:50.989730: I external/local_xla/xla/stream_executor/cuda/cuda_executor.cc:901] successful NUMA node read from SysFS had negative value (-1), but there must be at least one NUMA node, so returning NUMA node zero. See more at https://github.com/torvalds/linux/blob/v6.0/Documentation/ABI/testing/sysfs-bus-pci#L344-L355\n",
      "2024-02-09 09:43:50.989878: I external/local_xla/xla/stream_executor/cuda/cuda_executor.cc:901] successful NUMA node read from SysFS had negative value (-1), but there must be at least one NUMA node, so returning NUMA node zero. See more at https://github.com/torvalds/linux/blob/v6.0/Documentation/ABI/testing/sysfs-bus-pci#L344-L355\n",
      "2024-02-09 09:43:50.989971: I external/local_xla/xla/stream_executor/cuda/cuda_executor.cc:901] successful NUMA node read from SysFS had negative value (-1), but there must be at least one NUMA node, so returning NUMA node zero. See more at https://github.com/torvalds/linux/blob/v6.0/Documentation/ABI/testing/sysfs-bus-pci#L344-L355\n",
      "2024-02-09 09:43:51.031992: I external/local_xla/xla/stream_executor/cuda/cuda_executor.cc:901] successful NUMA node read from SysFS had negative value (-1), but there must be at least one NUMA node, so returning NUMA node zero. See more at https://github.com/torvalds/linux/blob/v6.0/Documentation/ABI/testing/sysfs-bus-pci#L344-L355\n",
      "2024-02-09 09:43:51.032154: I external/local_xla/xla/stream_executor/cuda/cuda_executor.cc:901] successful NUMA node read from SysFS had negative value (-1), but there must be at least one NUMA node, so returning NUMA node zero. See more at https://github.com/torvalds/linux/blob/v6.0/Documentation/ABI/testing/sysfs-bus-pci#L344-L355\n",
      "2024-02-09 09:43:51.032241: I external/local_xla/xla/stream_executor/cuda/cuda_executor.cc:901] successful NUMA node read from SysFS had negative value (-1), but there must be at least one NUMA node, so returning NUMA node zero. See more at https://github.com/torvalds/linux/blob/v6.0/Documentation/ABI/testing/sysfs-bus-pci#L344-L355\n",
      "2024-02-09 09:43:51.032298: I tensorflow/core/common_runtime/gpu/gpu_device.cc:1929] Created device /job:localhost/replica:0/task:0/device:GPU:0 with 3713 MB memory:  -> device: 0, name: NVIDIA GeForce RTX 3060 Laptop GPU, pci bus id: 0000:01:00.0, compute capability: 8.6\n"
     ]
    }
   ],
   "source": [
    "bert_preprocess = hub.KerasLayer(\n",
    "    \"https://tfhub.dev/tensorflow/bert_en_uncased_preprocess/3\"\n",
    ")\n",
    "bert_encoder = hub.KerasLayer(\n",
    "    \"https://tfhub.dev/tensorflow/bert_en_uncased_L-12_H-768_A-12/3\"\n",
    ")"
   ]
  },
  {
   "cell_type": "code",
   "execution_count": 5,
   "metadata": {},
   "outputs": [],
   "source": [
    "label_encoder = LabelEncoder()\n",
    "df[\"label\"] = label_encoder.fit_transform(df[\"label\"])"
   ]
  },
  {
   "cell_type": "code",
   "execution_count": 6,
   "metadata": {},
   "outputs": [],
   "source": [
    "df = df.sample(frac=1, random_state=30)\n",
    "train_data, temp_data = train_test_split(\n",
    "    df, test_size=0.2, stratify=df[\"label\"], random_state=30\n",
    ")\n",
    "dev_data, test_data = train_test_split(\n",
    "    temp_data, test_size=0.5, stratify=temp_data[\"label\"], random_state=30\n",
    ")"
   ]
  },
  {
   "cell_type": "code",
   "execution_count": 7,
   "metadata": {},
   "outputs": [],
   "source": [
    "import numpy as np\n",
    "\n",
    "X_train = np.array((train_data[\"text\"].tolist()))\n",
    "y_train = np.array(to_categorical(train_data[\"label\"].tolist(), num_classes=10))\n",
    "X_dev = np.array((dev_data[\"text\"].tolist()))\n",
    "y_dev = np.array(to_categorical(dev_data[\"label\"].tolist(), num_classes=10))\n",
    "X_test = np.array((test_data[\"text\"].tolist()))\n",
    "y_test = np.array(to_categorical(test_data[\"label\"].tolist(), num_classes=10))"
   ]
  },
  {
   "cell_type": "code",
   "execution_count": 8,
   "metadata": {},
   "outputs": [],
   "source": [
    "text_input = tf.keras.layers.Input(shape=(), dtype=tf.string, name=\"text\")\n",
    "preprocessed_text = bert_preprocess(text_input)\n",
    "outputs = bert_encoder(preprocessed_text)"
   ]
  },
  {
   "cell_type": "code",
   "execution_count": 9,
   "metadata": {},
   "outputs": [],
   "source": [
    "lambda_reg = 0.01"
   ]
  },
  {
   "cell_type": "code",
   "execution_count": 10,
   "metadata": {},
   "outputs": [],
   "source": [
    "dropout_layer1 = tf.keras.layers.Dropout(0.1)(outputs[\"pooled_output\"])\n",
    "dense_layer1 = tf.keras.layers.Dense(\n",
    "    512, activation=\"relu\", kernel_regularizer=regularizers.l2(lambda_reg)\n",
    ")(dropout_layer1)\n",
    "dropout_layer2 = tf.keras.layers.Dropout(0.1)(dense_layer1)\n",
    "dense_layer2 = tf.keras.layers.Dense(\n",
    "    512, activation=\"relu\", kernel_regularizer=regularizers.l2(lambda_reg)\n",
    ")(dropout_layer2)\n",
    "output = tf.keras.layers.Dense(10, activation=\"softmax\", name=\"output\")(dense_layer2)\n",
    "model = tf.keras.Model(inputs=[text_input], outputs=output)"
   ]
  },
  {
   "cell_type": "code",
   "execution_count": 11,
   "metadata": {},
   "outputs": [],
   "source": [
    "batch_size = 32"
   ]
  },
  {
   "cell_type": "code",
   "execution_count": 12,
   "metadata": {},
   "outputs": [],
   "source": [
    "STEPS_PER_EPOCH = len(X_train) // batch_size\n",
    "#\n",
    "custom_lr = PolynomialDecay(\n",
    "    initial_learning_rate=0.01, decay_steps=STEPS_PER_EPOCH, end_learning_rate=0.0001\n",
    ")\n",
    "# # Now you can use STEPS_PER_EPOCH in your learning rate schedule\n",
    "# custom_lr = tf.keras.optimizers.schedules.InverseTimeDecay(\n",
    "#     0.001, decay_steps=STEPS_PER_EPOCH * 1000, decay_rate=1, staircase=False\n",
    "# )"
   ]
  },
  {
   "cell_type": "code",
   "execution_count": 13,
   "metadata": {},
   "outputs": [
    {
     "name": "stderr",
     "output_type": "stream",
     "text": [
      "2024-02-09 09:44:59.434230: I external/local_tsl/tsl/platform/default/subprocess.cc:304] Start cannot spawn child process: No such file or directory\n"
     ]
    }
   ],
   "source": [
    "model.compile(\n",
    "    optimizer=tf.keras.optimizers.Adam(learning_rate=custom_lr),\n",
    "    loss=\"categorical_crossentropy\",\n",
    "    metrics=[\"accuracy\"],\n",
    ")"
   ]
  },
  {
   "cell_type": "code",
   "execution_count": 14,
   "metadata": {},
   "outputs": [],
   "source": [
    "early_stopping = EarlyStopping(monitor=\"val_loss\", patience=3)\n",
    "checkpoint = ModelCheckpoint(\n",
    "    \"best_model.h5\", monitor=\"val_accuracy\", verbose=1, save_best_only=True, mode=\"max\"\n",
    ")\n",
    "tensorboard = TensorBoard(log_dir=\"./logs\")"
   ]
  },
  {
   "cell_type": "code",
   "execution_count": 15,
   "metadata": {},
   "outputs": [
    {
     "name": "stdout",
     "output_type": "stream",
     "text": [
      "3/3 [==============================] - 2s 206ms/step - loss: 13.7298 - accuracy: 0.0875\n"
     ]
    },
    {
     "data": {
      "text/plain": [
       "[13.729833602905273, 0.08749999850988388]"
      ]
     },
     "execution_count": 15,
     "metadata": {},
     "output_type": "execute_result"
    }
   ],
   "source": [
    "model.evaluate(X_train, y_train)"
   ]
  },
  {
   "cell_type": "code",
   "execution_count": 16,
   "metadata": {},
   "outputs": [
    {
     "name": "stdout",
     "output_type": "stream",
     "text": [
      "1/1 [==============================] - 0s 100ms/step - loss: 13.7039 - accuracy: 0.0000e+00\n"
     ]
    },
    {
     "data": {
      "text/plain": [
       "[13.703880310058594, 0.0]"
      ]
     },
     "execution_count": 16,
     "metadata": {},
     "output_type": "execute_result"
    }
   ],
   "source": [
    "model.evaluate(X_test, y_test)"
   ]
  },
  {
   "cell_type": "code",
   "execution_count": 17,
   "metadata": {},
   "outputs": [
    {
     "name": "stdout",
     "output_type": "stream",
     "text": [
      "1/1 [==============================] - 0s 95ms/step - loss: 13.7007 - accuracy: 0.1000\n"
     ]
    },
    {
     "data": {
      "text/plain": [
       "[13.700742721557617, 0.10000000149011612]"
      ]
     },
     "execution_count": 17,
     "metadata": {},
     "output_type": "execute_result"
    }
   ],
   "source": [
    "model.evaluate(X_dev, y_dev)"
   ]
  },
  {
   "cell_type": "code",
   "execution_count": 18,
   "metadata": {},
   "outputs": [
    {
     "name": "stdout",
     "output_type": "stream",
     "text": [
      "Epoch 1/300\n"
     ]
    },
    {
     "name": "stderr",
     "output_type": "stream",
     "text": [
      "2024-02-09 09:45:05.830024: I external/local_xla/xla/service/service.cc:168] XLA service 0x7f6b9c0021e0 initialized for platform CUDA (this does not guarantee that XLA will be used). Devices:\n",
      "2024-02-09 09:45:05.830055: I external/local_xla/xla/service/service.cc:176]   StreamExecutor device (0): NVIDIA GeForce RTX 3060 Laptop GPU, Compute Capability 8.6\n",
      "2024-02-09 09:45:05.835208: I tensorflow/compiler/mlir/tensorflow/utils/dump_mlir_util.cc:269] disabling MLIR crash reproducer, set env var `MLIR_CRASH_REPRODUCER_DIRECTORY` to enable.\n",
      "2024-02-09 09:45:05.857695: I external/local_xla/xla/stream_executor/cuda/cuda_dnn.cc:454] Loaded cuDNN version 8904\n",
      "WARNING: All log messages before absl::InitializeLog() is called are written to STDERR\n",
      "I0000 00:00:1707452105.914996   11546 device_compiler.h:186] Compiled cluster using XLA!  This line is logged at most once for the lifetime of the process.\n"
     ]
    },
    {
     "name": "stdout",
     "output_type": "stream",
     "text": [
      "3/3 [==============================] - 5s 264ms/step - loss: 23.0035 - accuracy: 0.0750 - val_loss: 16.7646 - val_accuracy: 0.1000\n",
      "Epoch 2/300\n",
      "3/3 [==============================] - 1s 248ms/step - loss: 16.8629 - accuracy: 0.1125 - val_loss: 15.7772 - val_accuracy: 0.1000\n",
      "Epoch 3/300\n",
      "3/3 [==============================] - 1s 248ms/step - loss: 15.9484 - accuracy: 0.1500 - val_loss: 14.8642 - val_accuracy: 0.1000\n",
      "Epoch 4/300\n",
      "3/3 [==============================] - 1s 242ms/step - loss: 14.9894 - accuracy: 0.2000 - val_loss: 14.0975 - val_accuracy: 0.0000e+00\n",
      "Epoch 5/300\n",
      "3/3 [==============================] - 1s 246ms/step - loss: 14.1724 - accuracy: 0.1625 - val_loss: 13.4024 - val_accuracy: 0.0000e+00\n",
      "Epoch 6/300\n",
      "3/3 [==============================] - 1s 247ms/step - loss: 13.3334 - accuracy: 0.1875 - val_loss: 12.7819 - val_accuracy: 0.1000\n",
      "Epoch 7/300\n",
      "3/3 [==============================] - 1s 256ms/step - loss: 12.7754 - accuracy: 0.1750 - val_loss: 12.2644 - val_accuracy: 0.1000\n",
      "Epoch 8/300\n",
      "3/3 [==============================] - 1s 240ms/step - loss: 12.1401 - accuracy: 0.1875 - val_loss: 11.8613 - val_accuracy: 0.1000\n",
      "Epoch 9/300\n",
      "3/3 [==============================] - 1s 253ms/step - loss: 11.7756 - accuracy: 0.2125 - val_loss: 11.5228 - val_accuracy: 0.1000\n",
      "Epoch 10/300\n",
      "3/3 [==============================] - 1s 246ms/step - loss: 11.4080 - accuracy: 0.2125 - val_loss: 11.2178 - val_accuracy: 0.1000\n",
      "Epoch 11/300\n",
      "3/3 [==============================] - 1s 242ms/step - loss: 11.0966 - accuracy: 0.2250 - val_loss: 10.9478 - val_accuracy: 0.1000\n",
      "Epoch 12/300\n",
      "3/3 [==============================] - 1s 248ms/step - loss: 10.9222 - accuracy: 0.2250 - val_loss: 10.7065 - val_accuracy: 0.1000\n",
      "Epoch 13/300\n",
      "3/3 [==============================] - 1s 247ms/step - loss: 10.6365 - accuracy: 0.2000 - val_loss: 10.4971 - val_accuracy: 0.1000\n",
      "Epoch 14/300\n",
      "3/3 [==============================] - 1s 248ms/step - loss: 10.3392 - accuracy: 0.2500 - val_loss: 10.3174 - val_accuracy: 0.1000\n",
      "Epoch 15/300\n",
      "3/3 [==============================] - 1s 245ms/step - loss: 10.2884 - accuracy: 0.1625 - val_loss: 10.1676 - val_accuracy: 0.2000\n",
      "Epoch 16/300\n",
      "3/3 [==============================] - 1s 252ms/step - loss: 10.0881 - accuracy: 0.2875 - val_loss: 10.0411 - val_accuracy: 0.3000\n",
      "Epoch 17/300\n",
      "3/3 [==============================] - 1s 248ms/step - loss: 10.0130 - accuracy: 0.1500 - val_loss: 9.9284 - val_accuracy: 0.2000\n",
      "Epoch 18/300\n",
      "3/3 [==============================] - 1s 244ms/step - loss: 9.8923 - accuracy: 0.2375 - val_loss: 9.8213 - val_accuracy: 0.1000\n",
      "Epoch 19/300\n",
      "3/3 [==============================] - 1s 247ms/step - loss: 9.7886 - accuracy: 0.1875 - val_loss: 9.7127 - val_accuracy: 0.1000\n",
      "Epoch 20/300\n",
      "3/3 [==============================] - 1s 247ms/step - loss: 9.6199 - accuracy: 0.2875 - val_loss: 9.5999 - val_accuracy: 0.1000\n",
      "Epoch 21/300\n",
      "3/3 [==============================] - 1s 247ms/step - loss: 9.5331 - accuracy: 0.2250 - val_loss: 9.4842 - val_accuracy: 0.1000\n",
      "Epoch 22/300\n",
      "3/3 [==============================] - 1s 246ms/step - loss: 9.3953 - accuracy: 0.2250 - val_loss: 9.3719 - val_accuracy: 0.1000\n",
      "Epoch 23/300\n",
      "3/3 [==============================] - 1s 243ms/step - loss: 9.2424 - accuracy: 0.3000 - val_loss: 9.2624 - val_accuracy: 0.2000\n",
      "Epoch 24/300\n",
      "3/3 [==============================] - 1s 230ms/step - loss: 9.1239 - accuracy: 0.2875 - val_loss: 9.1588 - val_accuracy: 0.2000\n",
      "Epoch 25/300\n",
      "3/3 [==============================] - 1s 232ms/step - loss: 9.0267 - accuracy: 0.2750 - val_loss: 9.0643 - val_accuracy: 0.2000\n",
      "Epoch 26/300\n",
      "3/3 [==============================] - 1s 224ms/step - loss: 8.9354 - accuracy: 0.2750 - val_loss: 8.9816 - val_accuracy: 0.2000\n",
      "Epoch 27/300\n",
      "3/3 [==============================] - 1s 227ms/step - loss: 8.8344 - accuracy: 0.2750 - val_loss: 8.9080 - val_accuracy: 0.2000\n",
      "Epoch 28/300\n",
      "3/3 [==============================] - 1s 224ms/step - loss: 8.7637 - accuracy: 0.2750 - val_loss: 8.8416 - val_accuracy: 0.2000\n",
      "Epoch 29/300\n",
      "3/3 [==============================] - 1s 231ms/step - loss: 8.7226 - accuracy: 0.2750 - val_loss: 8.7829 - val_accuracy: 0.3000\n",
      "Epoch 30/300\n",
      "3/3 [==============================] - 1s 224ms/step - loss: 8.5958 - accuracy: 0.3000 - val_loss: 8.7306 - val_accuracy: 0.3000\n",
      "Epoch 31/300\n",
      "3/3 [==============================] - 1s 228ms/step - loss: 8.5931 - accuracy: 0.2750 - val_loss: 8.6854 - val_accuracy: 0.2000\n",
      "Epoch 32/300\n",
      "3/3 [==============================] - 1s 247ms/step - loss: 8.5572 - accuracy: 0.2250 - val_loss: 8.6356 - val_accuracy: 0.2000\n",
      "Epoch 33/300\n",
      "3/3 [==============================] - 1s 235ms/step - loss: 8.4663 - accuracy: 0.3000 - val_loss: 8.5779 - val_accuracy: 0.2000\n",
      "Epoch 34/300\n",
      "3/3 [==============================] - 1s 235ms/step - loss: 8.4477 - accuracy: 0.2250 - val_loss: 8.5192 - val_accuracy: 0.3000\n",
      "Epoch 35/300\n",
      "3/3 [==============================] - 1s 228ms/step - loss: 8.2942 - accuracy: 0.2500 - val_loss: 8.4599 - val_accuracy: 0.3000\n",
      "Epoch 36/300\n",
      "3/3 [==============================] - 1s 233ms/step - loss: 8.2819 - accuracy: 0.3000 - val_loss: 8.4041 - val_accuracy: 0.3000\n",
      "Epoch 37/300\n",
      "3/3 [==============================] - 1s 235ms/step - loss: 8.2301 - accuracy: 0.2625 - val_loss: 8.3466 - val_accuracy: 0.3000\n",
      "Epoch 38/300\n",
      "3/3 [==============================] - 1s 238ms/step - loss: 8.1599 - accuracy: 0.3375 - val_loss: 8.2911 - val_accuracy: 0.3000\n",
      "Epoch 39/300\n",
      "3/3 [==============================] - 1s 234ms/step - loss: 8.1046 - accuracy: 0.3250 - val_loss: 8.2384 - val_accuracy: 0.3000\n",
      "Epoch 40/300\n",
      "3/3 [==============================] - 1s 235ms/step - loss: 7.9818 - accuracy: 0.3250 - val_loss: 8.1914 - val_accuracy: 0.3000\n",
      "Epoch 41/300\n",
      "3/3 [==============================] - 1s 232ms/step - loss: 7.9732 - accuracy: 0.3625 - val_loss: 8.1459 - val_accuracy: 0.3000\n",
      "Epoch 42/300\n",
      "3/3 [==============================] - 1s 235ms/step - loss: 7.9767 - accuracy: 0.3250 - val_loss: 8.1039 - val_accuracy: 0.3000\n",
      "Epoch 43/300\n",
      "3/3 [==============================] - 1s 235ms/step - loss: 7.8775 - accuracy: 0.3000 - val_loss: 8.0617 - val_accuracy: 0.2000\n",
      "Epoch 44/300\n",
      "3/3 [==============================] - 1s 230ms/step - loss: 7.8724 - accuracy: 0.2875 - val_loss: 8.0154 - val_accuracy: 0.2000\n",
      "Epoch 45/300\n",
      "3/3 [==============================] - 1s 232ms/step - loss: 7.7974 - accuracy: 0.3500 - val_loss: 7.9598 - val_accuracy: 0.2000\n",
      "Epoch 46/300\n",
      "3/3 [==============================] - 1s 232ms/step - loss: 7.7565 - accuracy: 0.3125 - val_loss: 7.9036 - val_accuracy: 0.3000\n",
      "Epoch 47/300\n",
      "3/3 [==============================] - 1s 227ms/step - loss: 7.6770 - accuracy: 0.3500 - val_loss: 7.8537 - val_accuracy: 0.3000\n",
      "Epoch 48/300\n",
      "3/3 [==============================] - 1s 236ms/step - loss: 7.6218 - accuracy: 0.2750 - val_loss: 7.8062 - val_accuracy: 0.3000\n",
      "Epoch 49/300\n",
      "3/3 [==============================] - 1s 230ms/step - loss: 7.5823 - accuracy: 0.3250 - val_loss: 7.7581 - val_accuracy: 0.3000\n",
      "Epoch 50/300\n",
      "3/3 [==============================] - 1s 245ms/step - loss: 7.4951 - accuracy: 0.4125 - val_loss: 7.7105 - val_accuracy: 0.3000\n",
      "Epoch 51/300\n",
      "3/3 [==============================] - 1s 239ms/step - loss: 7.5128 - accuracy: 0.2250 - val_loss: 7.6678 - val_accuracy: 0.3000\n",
      "Epoch 52/300\n",
      "3/3 [==============================] - 1s 233ms/step - loss: 7.4480 - accuracy: 0.3000 - val_loss: 7.6276 - val_accuracy: 0.3000\n",
      "Epoch 53/300\n",
      "3/3 [==============================] - 1s 245ms/step - loss: 7.3840 - accuracy: 0.3375 - val_loss: 7.5877 - val_accuracy: 0.3000\n",
      "Epoch 54/300\n",
      "3/3 [==============================] - 1s 231ms/step - loss: 7.4473 - accuracy: 0.2875 - val_loss: 7.5484 - val_accuracy: 0.3000\n",
      "Epoch 55/300\n",
      "3/3 [==============================] - 1s 235ms/step - loss: 7.2534 - accuracy: 0.4125 - val_loss: 7.5053 - val_accuracy: 0.3000\n",
      "Epoch 56/300\n",
      "3/3 [==============================] - 1s 238ms/step - loss: 7.2206 - accuracy: 0.3625 - val_loss: 7.4602 - val_accuracy: 0.3000\n",
      "Epoch 57/300\n",
      "3/3 [==============================] - 1s 241ms/step - loss: 7.1975 - accuracy: 0.3000 - val_loss: 7.4106 - val_accuracy: 0.3000\n",
      "Epoch 58/300\n",
      "3/3 [==============================] - 1s 248ms/step - loss: 7.1258 - accuracy: 0.4250 - val_loss: 7.3678 - val_accuracy: 0.3000\n",
      "Epoch 59/300\n",
      "3/3 [==============================] - 1s 241ms/step - loss: 7.1543 - accuracy: 0.2875 - val_loss: 7.3317 - val_accuracy: 0.3000\n",
      "Epoch 60/300\n",
      "3/3 [==============================] - 1s 245ms/step - loss: 7.0997 - accuracy: 0.3250 - val_loss: 7.2939 - val_accuracy: 0.3000\n",
      "Epoch 61/300\n",
      "3/3 [==============================] - 1s 243ms/step - loss: 6.9531 - accuracy: 0.4250 - val_loss: 7.2594 - val_accuracy: 0.3000\n",
      "Epoch 62/300\n",
      "3/3 [==============================] - 1s 242ms/step - loss: 6.9502 - accuracy: 0.3875 - val_loss: 7.2184 - val_accuracy: 0.3000\n",
      "Epoch 63/300\n",
      "3/3 [==============================] - 1s 238ms/step - loss: 6.8923 - accuracy: 0.3875 - val_loss: 7.1735 - val_accuracy: 0.3000\n",
      "Epoch 64/300\n",
      "3/3 [==============================] - 1s 249ms/step - loss: 6.8992 - accuracy: 0.3375 - val_loss: 7.1312 - val_accuracy: 0.3000\n",
      "Epoch 65/300\n",
      "3/3 [==============================] - 1s 240ms/step - loss: 6.8404 - accuracy: 0.3500 - val_loss: 7.0884 - val_accuracy: 0.3000\n",
      "Epoch 66/300\n",
      "3/3 [==============================] - 1s 246ms/step - loss: 6.8142 - accuracy: 0.3875 - val_loss: 7.0402 - val_accuracy: 0.3000\n",
      "Epoch 67/300\n",
      "3/3 [==============================] - 1s 246ms/step - loss: 6.7579 - accuracy: 0.4375 - val_loss: 6.9950 - val_accuracy: 0.3000\n",
      "Epoch 68/300\n",
      "3/3 [==============================] - 1s 247ms/step - loss: 6.8092 - accuracy: 0.3000 - val_loss: 6.9545 - val_accuracy: 0.3000\n",
      "Epoch 69/300\n",
      "3/3 [==============================] - 1s 242ms/step - loss: 6.7133 - accuracy: 0.3125 - val_loss: 6.9208 - val_accuracy: 0.3000\n",
      "Epoch 70/300\n",
      "3/3 [==============================] - 1s 243ms/step - loss: 6.6753 - accuracy: 0.3625 - val_loss: 6.8865 - val_accuracy: 0.3000\n",
      "Epoch 71/300\n",
      "3/3 [==============================] - 1s 243ms/step - loss: 6.5965 - accuracy: 0.3750 - val_loss: 6.8550 - val_accuracy: 0.3000\n",
      "Epoch 72/300\n",
      "3/3 [==============================] - 1s 247ms/step - loss: 6.5482 - accuracy: 0.4125 - val_loss: 6.8215 - val_accuracy: 0.3000\n",
      "Epoch 73/300\n",
      "3/3 [==============================] - 1s 244ms/step - loss: 6.5493 - accuracy: 0.3875 - val_loss: 6.7849 - val_accuracy: 0.3000\n",
      "Epoch 74/300\n",
      "3/3 [==============================] - 1s 240ms/step - loss: 6.5182 - accuracy: 0.4000 - val_loss: 6.7477 - val_accuracy: 0.3000\n",
      "Epoch 75/300\n",
      "3/3 [==============================] - 1s 244ms/step - loss: 6.4307 - accuracy: 0.4375 - val_loss: 6.7141 - val_accuracy: 0.3000\n",
      "Epoch 76/300\n",
      "3/3 [==============================] - 1s 241ms/step - loss: 6.4205 - accuracy: 0.4125 - val_loss: 6.6843 - val_accuracy: 0.3000\n",
      "Epoch 77/300\n",
      "3/3 [==============================] - 1s 249ms/step - loss: 6.3766 - accuracy: 0.3375 - val_loss: 6.6527 - val_accuracy: 0.3000\n",
      "Epoch 78/300\n",
      "3/3 [==============================] - 1s 246ms/step - loss: 6.3626 - accuracy: 0.4375 - val_loss: 6.6222 - val_accuracy: 0.3000\n",
      "Epoch 79/300\n",
      "3/3 [==============================] - 1s 244ms/step - loss: 6.2998 - accuracy: 0.3750 - val_loss: 6.5878 - val_accuracy: 0.3000\n",
      "Epoch 80/300\n",
      "3/3 [==============================] - 1s 246ms/step - loss: 6.2765 - accuracy: 0.3750 - val_loss: 6.5521 - val_accuracy: 0.3000\n",
      "Epoch 81/300\n",
      "3/3 [==============================] - 1s 242ms/step - loss: 6.2067 - accuracy: 0.3875 - val_loss: 6.5130 - val_accuracy: 0.3000\n",
      "Epoch 82/300\n",
      "3/3 [==============================] - 1s 246ms/step - loss: 6.2302 - accuracy: 0.3625 - val_loss: 6.4743 - val_accuracy: 0.3000\n",
      "Epoch 83/300\n",
      "3/3 [==============================] - 1s 245ms/step - loss: 6.1986 - accuracy: 0.4125 - val_loss: 6.4341 - val_accuracy: 0.3000\n",
      "Epoch 84/300\n",
      "3/3 [==============================] - 1s 245ms/step - loss: 6.1042 - accuracy: 0.4750 - val_loss: 6.3970 - val_accuracy: 0.3000\n",
      "Epoch 85/300\n",
      "3/3 [==============================] - 1s 248ms/step - loss: 6.1149 - accuracy: 0.4125 - val_loss: 6.3635 - val_accuracy: 0.3000\n",
      "Epoch 86/300\n",
      "3/3 [==============================] - 1s 236ms/step - loss: 6.0599 - accuracy: 0.4125 - val_loss: 6.3329 - val_accuracy: 0.3000\n",
      "Epoch 87/300\n",
      "3/3 [==============================] - 1s 247ms/step - loss: 6.0874 - accuracy: 0.3625 - val_loss: 6.2978 - val_accuracy: 0.3000\n",
      "Epoch 88/300\n",
      "3/3 [==============================] - 1s 245ms/step - loss: 6.0172 - accuracy: 0.3750 - val_loss: 6.2615 - val_accuracy: 0.4000\n",
      "Epoch 89/300\n",
      "3/3 [==============================] - 1s 243ms/step - loss: 5.9598 - accuracy: 0.4500 - val_loss: 6.2240 - val_accuracy: 0.3000\n",
      "Epoch 90/300\n",
      "3/3 [==============================] - 1s 241ms/step - loss: 5.9234 - accuracy: 0.4375 - val_loss: 6.1851 - val_accuracy: 0.3000\n",
      "Epoch 91/300\n",
      "3/3 [==============================] - 1s 250ms/step - loss: 5.8769 - accuracy: 0.4500 - val_loss: 6.1525 - val_accuracy: 0.3000\n",
      "Epoch 92/300\n",
      "3/3 [==============================] - 1s 244ms/step - loss: 5.8518 - accuracy: 0.4625 - val_loss: 6.1243 - val_accuracy: 0.3000\n",
      "Epoch 93/300\n",
      "3/3 [==============================] - 1s 244ms/step - loss: 5.8769 - accuracy: 0.4000 - val_loss: 6.0968 - val_accuracy: 0.3000\n",
      "Epoch 94/300\n",
      "3/3 [==============================] - 1s 246ms/step - loss: 5.8031 - accuracy: 0.4625 - val_loss: 6.0679 - val_accuracy: 0.3000\n",
      "Epoch 95/300\n",
      "3/3 [==============================] - 1s 241ms/step - loss: 5.8004 - accuracy: 0.4500 - val_loss: 6.0365 - val_accuracy: 0.3000\n",
      "Epoch 96/300\n",
      "3/3 [==============================] - 1s 245ms/step - loss: 5.7509 - accuracy: 0.5000 - val_loss: 6.0104 - val_accuracy: 0.3000\n",
      "Epoch 97/300\n",
      "3/3 [==============================] - 1s 243ms/step - loss: 5.7372 - accuracy: 0.4000 - val_loss: 5.9896 - val_accuracy: 0.3000\n",
      "Epoch 98/300\n",
      "3/3 [==============================] - 1s 245ms/step - loss: 5.6748 - accuracy: 0.4000 - val_loss: 5.9714 - val_accuracy: 0.3000\n",
      "Epoch 99/300\n",
      "3/3 [==============================] - 1s 239ms/step - loss: 5.6579 - accuracy: 0.4250 - val_loss: 5.9430 - val_accuracy: 0.3000\n",
      "Epoch 100/300\n",
      "3/3 [==============================] - 1s 245ms/step - loss: 5.6972 - accuracy: 0.3750 - val_loss: 5.9127 - val_accuracy: 0.3000\n",
      "Epoch 101/300\n",
      "3/3 [==============================] - 1s 244ms/step - loss: 5.6258 - accuracy: 0.4625 - val_loss: 5.8784 - val_accuracy: 0.3000\n",
      "Epoch 102/300\n",
      "3/3 [==============================] - 1s 234ms/step - loss: 5.6314 - accuracy: 0.4375 - val_loss: 5.8421 - val_accuracy: 0.3000\n",
      "Epoch 103/300\n",
      "3/3 [==============================] - 1s 244ms/step - loss: 5.5201 - accuracy: 0.4375 - val_loss: 5.8078 - val_accuracy: 0.3000\n",
      "Epoch 104/300\n",
      "3/3 [==============================] - 1s 248ms/step - loss: 5.4854 - accuracy: 0.4875 - val_loss: 5.7843 - val_accuracy: 0.3000\n",
      "Epoch 105/300\n",
      "3/3 [==============================] - 1s 243ms/step - loss: 5.5112 - accuracy: 0.4750 - val_loss: 5.7712 - val_accuracy: 0.3000\n",
      "Epoch 106/300\n",
      "3/3 [==============================] - 1s 244ms/step - loss: 5.4295 - accuracy: 0.5250 - val_loss: 5.7616 - val_accuracy: 0.4000\n",
      "Epoch 107/300\n",
      "3/3 [==============================] - 1s 245ms/step - loss: 5.3932 - accuracy: 0.5000 - val_loss: 5.7431 - val_accuracy: 0.4000\n",
      "Epoch 108/300\n",
      "3/3 [==============================] - 1s 241ms/step - loss: 5.3118 - accuracy: 0.5875 - val_loss: 5.7002 - val_accuracy: 0.4000\n",
      "Epoch 109/300\n",
      "3/3 [==============================] - 1s 243ms/step - loss: 5.4581 - accuracy: 0.3875 - val_loss: 5.6592 - val_accuracy: 0.4000\n",
      "Epoch 110/300\n",
      "3/3 [==============================] - 1s 240ms/step - loss: 5.3682 - accuracy: 0.4625 - val_loss: 5.6289 - val_accuracy: 0.4000\n",
      "Epoch 111/300\n",
      "3/3 [==============================] - 1s 242ms/step - loss: 5.3331 - accuracy: 0.4250 - val_loss: 5.6068 - val_accuracy: 0.4000\n",
      "Epoch 112/300\n",
      "3/3 [==============================] - 1s 244ms/step - loss: 5.3245 - accuracy: 0.5125 - val_loss: 5.5911 - val_accuracy: 0.3000\n",
      "Epoch 113/300\n",
      "3/3 [==============================] - 1s 242ms/step - loss: 5.2943 - accuracy: 0.4625 - val_loss: 5.5704 - val_accuracy: 0.3000\n",
      "Epoch 114/300\n",
      "3/3 [==============================] - 1s 241ms/step - loss: 5.2626 - accuracy: 0.4875 - val_loss: 5.5531 - val_accuracy: 0.3000\n",
      "Epoch 115/300\n",
      "3/3 [==============================] - 1s 243ms/step - loss: 5.1849 - accuracy: 0.4750 - val_loss: 5.5333 - val_accuracy: 0.3000\n",
      "Epoch 116/300\n",
      "3/3 [==============================] - 1s 241ms/step - loss: 5.1765 - accuracy: 0.5250 - val_loss: 5.5127 - val_accuracy: 0.3000\n",
      "Epoch 117/300\n",
      "3/3 [==============================] - 1s 246ms/step - loss: 5.1919 - accuracy: 0.5125 - val_loss: 5.4878 - val_accuracy: 0.3000\n",
      "Epoch 118/300\n",
      "3/3 [==============================] - 1s 247ms/step - loss: 5.1911 - accuracy: 0.4875 - val_loss: 5.4651 - val_accuracy: 0.3000\n",
      "Epoch 119/300\n",
      "3/3 [==============================] - 1s 240ms/step - loss: 5.0783 - accuracy: 0.6125 - val_loss: 5.4317 - val_accuracy: 0.3000\n",
      "Epoch 120/300\n",
      "3/3 [==============================] - 1s 246ms/step - loss: 5.0644 - accuracy: 0.5375 - val_loss: 5.3975 - val_accuracy: 0.3000\n",
      "Epoch 121/300\n",
      "3/3 [==============================] - 1s 233ms/step - loss: 5.0398 - accuracy: 0.5125 - val_loss: 5.3638 - val_accuracy: 0.3000\n",
      "Epoch 122/300\n",
      "3/3 [==============================] - 1s 243ms/step - loss: 5.0684 - accuracy: 0.5125 - val_loss: 5.3358 - val_accuracy: 0.3000\n",
      "Epoch 123/300\n",
      "3/3 [==============================] - 1s 244ms/step - loss: 5.0392 - accuracy: 0.5250 - val_loss: 5.3086 - val_accuracy: 0.4000\n",
      "Epoch 124/300\n",
      "3/3 [==============================] - 1s 242ms/step - loss: 4.9896 - accuracy: 0.5125 - val_loss: 5.2888 - val_accuracy: 0.3000\n",
      "Epoch 125/300\n",
      "3/3 [==============================] - 1s 241ms/step - loss: 4.9739 - accuracy: 0.5250 - val_loss: 5.2650 - val_accuracy: 0.4000\n",
      "Epoch 126/300\n",
      "3/3 [==============================] - 1s 243ms/step - loss: 4.9633 - accuracy: 0.5250 - val_loss: 5.2418 - val_accuracy: 0.4000\n",
      "Epoch 127/300\n",
      "3/3 [==============================] - 1s 244ms/step - loss: 4.9401 - accuracy: 0.5000 - val_loss: 5.2281 - val_accuracy: 0.4000\n",
      "Epoch 128/300\n",
      "3/3 [==============================] - 1s 240ms/step - loss: 4.8966 - accuracy: 0.5125 - val_loss: 5.2118 - val_accuracy: 0.4000\n",
      "Epoch 129/300\n",
      "3/3 [==============================] - 1s 241ms/step - loss: 4.8873 - accuracy: 0.5375 - val_loss: 5.1926 - val_accuracy: 0.4000\n",
      "Epoch 130/300\n",
      "3/3 [==============================] - 1s 239ms/step - loss: 4.8541 - accuracy: 0.5750 - val_loss: 5.1676 - val_accuracy: 0.5000\n",
      "Epoch 131/300\n",
      "3/3 [==============================] - 1s 241ms/step - loss: 4.8657 - accuracy: 0.5125 - val_loss: 5.1383 - val_accuracy: 0.5000\n",
      "Epoch 132/300\n",
      "3/3 [==============================] - 1s 242ms/step - loss: 4.7844 - accuracy: 0.5875 - val_loss: 5.1101 - val_accuracy: 0.5000\n",
      "Epoch 133/300\n",
      "3/3 [==============================] - 1s 242ms/step - loss: 4.7884 - accuracy: 0.5875 - val_loss: 5.0911 - val_accuracy: 0.3000\n",
      "Epoch 134/300\n",
      "3/3 [==============================] - 1s 244ms/step - loss: 4.7706 - accuracy: 0.5125 - val_loss: 5.0793 - val_accuracy: 0.4000\n",
      "Epoch 135/300\n",
      "3/3 [==============================] - 1s 241ms/step - loss: 4.7144 - accuracy: 0.5750 - val_loss: 5.0579 - val_accuracy: 0.4000\n",
      "Epoch 136/300\n",
      "3/3 [==============================] - 1s 247ms/step - loss: 4.7463 - accuracy: 0.5500 - val_loss: 5.0276 - val_accuracy: 0.4000\n",
      "Epoch 137/300\n",
      "3/3 [==============================] - 1s 244ms/step - loss: 4.6785 - accuracy: 0.5375 - val_loss: 5.0036 - val_accuracy: 0.3000\n",
      "Epoch 138/300\n",
      "3/3 [==============================] - 1s 246ms/step - loss: 4.6858 - accuracy: 0.5125 - val_loss: 4.9844 - val_accuracy: 0.3000\n",
      "Epoch 139/300\n",
      "3/3 [==============================] - 1s 245ms/step - loss: 4.6836 - accuracy: 0.5375 - val_loss: 4.9689 - val_accuracy: 0.4000\n",
      "Epoch 140/300\n",
      "3/3 [==============================] - 1s 251ms/step - loss: 4.7066 - accuracy: 0.5500 - val_loss: 4.9648 - val_accuracy: 0.4000\n",
      "Epoch 141/300\n",
      "3/3 [==============================] - 1s 243ms/step - loss: 4.6150 - accuracy: 0.5375 - val_loss: 4.9540 - val_accuracy: 0.3000\n",
      "Epoch 142/300\n",
      "3/3 [==============================] - 1s 241ms/step - loss: 4.6820 - accuracy: 0.5125 - val_loss: 4.9373 - val_accuracy: 0.4000\n",
      "Epoch 143/300\n",
      "3/3 [==============================] - 1s 241ms/step - loss: 4.5631 - accuracy: 0.5625 - val_loss: 4.9133 - val_accuracy: 0.4000\n",
      "Epoch 144/300\n",
      "3/3 [==============================] - 1s 247ms/step - loss: 4.5717 - accuracy: 0.5375 - val_loss: 4.9011 - val_accuracy: 0.3000\n",
      "Epoch 145/300\n",
      "3/3 [==============================] - 1s 240ms/step - loss: 4.5774 - accuracy: 0.5125 - val_loss: 4.8768 - val_accuracy: 0.3000\n",
      "Epoch 146/300\n",
      "3/3 [==============================] - 1s 247ms/step - loss: 4.5284 - accuracy: 0.5500 - val_loss: 4.8546 - val_accuracy: 0.3000\n",
      "Epoch 147/300\n",
      "3/3 [==============================] - 1s 250ms/step - loss: 4.5448 - accuracy: 0.5375 - val_loss: 4.8299 - val_accuracy: 0.3000\n",
      "Epoch 148/300\n",
      "3/3 [==============================] - 1s 245ms/step - loss: 4.4877 - accuracy: 0.6125 - val_loss: 4.8153 - val_accuracy: 0.4000\n",
      "Epoch 149/300\n",
      "3/3 [==============================] - 1s 244ms/step - loss: 4.4390 - accuracy: 0.6375 - val_loss: 4.7992 - val_accuracy: 0.4000\n",
      "Epoch 150/300\n",
      "3/3 [==============================] - 1s 251ms/step - loss: 4.4195 - accuracy: 0.6250 - val_loss: 4.7794 - val_accuracy: 0.4000\n",
      "Epoch 151/300\n",
      "3/3 [==============================] - 1s 245ms/step - loss: 4.4394 - accuracy: 0.5875 - val_loss: 4.7483 - val_accuracy: 0.4000\n",
      "Epoch 152/300\n",
      "3/3 [==============================] - 1s 239ms/step - loss: 4.4645 - accuracy: 0.5375 - val_loss: 4.7223 - val_accuracy: 0.4000\n",
      "Epoch 153/300\n",
      "3/3 [==============================] - 1s 243ms/step - loss: 4.3861 - accuracy: 0.6125 - val_loss: 4.6969 - val_accuracy: 0.4000\n",
      "Epoch 154/300\n",
      "3/3 [==============================] - 1s 250ms/step - loss: 4.3764 - accuracy: 0.5625 - val_loss: 4.6752 - val_accuracy: 0.3000\n",
      "Epoch 155/300\n",
      "3/3 [==============================] - 1s 254ms/step - loss: 4.3858 - accuracy: 0.5250 - val_loss: 4.6612 - val_accuracy: 0.3000\n",
      "Epoch 156/300\n",
      "3/3 [==============================] - 1s 252ms/step - loss: 4.3373 - accuracy: 0.6250 - val_loss: 4.6399 - val_accuracy: 0.3000\n",
      "Epoch 157/300\n",
      "3/3 [==============================] - 1s 239ms/step - loss: 4.3697 - accuracy: 0.5875 - val_loss: 4.6213 - val_accuracy: 0.3000\n",
      "Epoch 158/300\n",
      "3/3 [==============================] - 1s 220ms/step - loss: 4.3364 - accuracy: 0.5500 - val_loss: 4.6070 - val_accuracy: 0.3000\n",
      "Epoch 159/300\n",
      "3/3 [==============================] - 1s 234ms/step - loss: 4.3489 - accuracy: 0.5500 - val_loss: 4.5935 - val_accuracy: 0.4000\n",
      "Epoch 160/300\n",
      "3/3 [==============================] - 1s 228ms/step - loss: 4.2764 - accuracy: 0.5375 - val_loss: 4.5777 - val_accuracy: 0.4000\n",
      "Epoch 161/300\n",
      "3/3 [==============================] - 1s 244ms/step - loss: 4.2868 - accuracy: 0.6125 - val_loss: 4.5638 - val_accuracy: 0.4000\n",
      "Epoch 162/300\n",
      "3/3 [==============================] - 1s 241ms/step - loss: 4.2450 - accuracy: 0.6000 - val_loss: 4.5426 - val_accuracy: 0.4000\n",
      "Epoch 163/300\n",
      "3/3 [==============================] - 1s 237ms/step - loss: 4.3000 - accuracy: 0.5125 - val_loss: 4.5340 - val_accuracy: 0.4000\n",
      "Epoch 164/300\n",
      "3/3 [==============================] - 1s 249ms/step - loss: 4.2328 - accuracy: 0.6125 - val_loss: 4.5289 - val_accuracy: 0.3000\n",
      "Epoch 165/300\n",
      "3/3 [==============================] - 1s 243ms/step - loss: 4.1899 - accuracy: 0.5750 - val_loss: 4.5245 - val_accuracy: 0.3000\n",
      "Epoch 166/300\n",
      "3/3 [==============================] - 1s 245ms/step - loss: 4.1659 - accuracy: 0.6125 - val_loss: 4.5088 - val_accuracy: 0.3000\n",
      "Epoch 167/300\n",
      "3/3 [==============================] - 1s 244ms/step - loss: 4.1461 - accuracy: 0.6375 - val_loss: 4.4793 - val_accuracy: 0.3000\n",
      "Epoch 168/300\n",
      "3/3 [==============================] - 1s 232ms/step - loss: 4.1356 - accuracy: 0.6375 - val_loss: 4.4533 - val_accuracy: 0.3000\n",
      "Epoch 169/300\n",
      "3/3 [==============================] - 1s 254ms/step - loss: 4.1594 - accuracy: 0.6125 - val_loss: 4.4343 - val_accuracy: 0.4000\n",
      "Epoch 170/300\n",
      "3/3 [==============================] - 1s 254ms/step - loss: 4.0853 - accuracy: 0.6000 - val_loss: 4.4143 - val_accuracy: 0.4000\n",
      "Epoch 171/300\n",
      "3/3 [==============================] - 1s 262ms/step - loss: 4.1301 - accuracy: 0.5625 - val_loss: 4.4079 - val_accuracy: 0.4000\n",
      "Epoch 172/300\n",
      "3/3 [==============================] - 1s 256ms/step - loss: 4.0859 - accuracy: 0.6375 - val_loss: 4.4006 - val_accuracy: 0.4000\n",
      "Epoch 173/300\n",
      "3/3 [==============================] - 1s 238ms/step - loss: 4.0512 - accuracy: 0.6500 - val_loss: 4.4009 - val_accuracy: 0.3000\n",
      "Epoch 174/300\n",
      "3/3 [==============================] - 1s 267ms/step - loss: 4.0503 - accuracy: 0.5625 - val_loss: 4.3970 - val_accuracy: 0.3000\n",
      "Epoch 175/300\n",
      "3/3 [==============================] - 1s 265ms/step - loss: 3.9861 - accuracy: 0.6625 - val_loss: 4.3844 - val_accuracy: 0.3000\n",
      "Epoch 176/300\n",
      "3/3 [==============================] - 1s 264ms/step - loss: 4.0137 - accuracy: 0.6250 - val_loss: 4.3685 - val_accuracy: 0.3000\n",
      "Epoch 177/300\n",
      "3/3 [==============================] - 1s 258ms/step - loss: 4.0428 - accuracy: 0.6500 - val_loss: 4.3560 - val_accuracy: 0.3000\n",
      "Epoch 178/300\n",
      "3/3 [==============================] - 1s 248ms/step - loss: 3.9821 - accuracy: 0.6250 - val_loss: 4.3346 - val_accuracy: 0.3000\n",
      "Epoch 179/300\n",
      "3/3 [==============================] - 1s 250ms/step - loss: 3.9912 - accuracy: 0.6250 - val_loss: 4.3092 - val_accuracy: 0.3000\n",
      "Epoch 180/300\n",
      "3/3 [==============================] - 1s 256ms/step - loss: 3.9987 - accuracy: 0.5875 - val_loss: 4.2910 - val_accuracy: 0.3000\n",
      "Epoch 181/300\n",
      "3/3 [==============================] - 1s 259ms/step - loss: 3.9989 - accuracy: 0.6250 - val_loss: 4.2822 - val_accuracy: 0.3000\n",
      "Epoch 182/300\n",
      "3/3 [==============================] - 1s 256ms/step - loss: 3.9610 - accuracy: 0.6750 - val_loss: 4.2702 - val_accuracy: 0.3000\n",
      "Epoch 183/300\n",
      "3/3 [==============================] - 1s 258ms/step - loss: 3.9203 - accuracy: 0.5625 - val_loss: 4.2573 - val_accuracy: 0.3000\n",
      "Epoch 184/300\n",
      "3/3 [==============================] - 1s 234ms/step - loss: 3.9176 - accuracy: 0.6375 - val_loss: 4.2442 - val_accuracy: 0.3000\n",
      "Epoch 185/300\n",
      "3/3 [==============================] - 1s 237ms/step - loss: 3.8529 - accuracy: 0.6250 - val_loss: 4.2340 - val_accuracy: 0.3000\n",
      "Epoch 186/300\n",
      "3/3 [==============================] - 1s 229ms/step - loss: 3.8456 - accuracy: 0.7375 - val_loss: 4.2276 - val_accuracy: 0.3000\n",
      "Epoch 187/300\n",
      "3/3 [==============================] - 1s 228ms/step - loss: 3.8872 - accuracy: 0.5750 - val_loss: 4.2195 - val_accuracy: 0.3000\n",
      "Epoch 188/300\n",
      "3/3 [==============================] - 1s 239ms/step - loss: 3.8349 - accuracy: 0.6500 - val_loss: 4.2049 - val_accuracy: 0.3000\n",
      "Epoch 189/300\n",
      "3/3 [==============================] - 1s 232ms/step - loss: 3.8691 - accuracy: 0.6000 - val_loss: 4.1800 - val_accuracy: 0.3000\n",
      "Epoch 190/300\n",
      "3/3 [==============================] - 1s 237ms/step - loss: 3.8361 - accuracy: 0.6000 - val_loss: 4.1657 - val_accuracy: 0.4000\n",
      "Epoch 191/300\n",
      "3/3 [==============================] - 1s 242ms/step - loss: 3.8604 - accuracy: 0.5625 - val_loss: 4.1398 - val_accuracy: 0.4000\n",
      "Epoch 192/300\n",
      "3/3 [==============================] - 1s 241ms/step - loss: 3.8236 - accuracy: 0.6375 - val_loss: 4.1306 - val_accuracy: 0.4000\n",
      "Epoch 193/300\n",
      "3/3 [==============================] - 1s 238ms/step - loss: 3.7912 - accuracy: 0.6250 - val_loss: 4.1098 - val_accuracy: 0.4000\n",
      "Epoch 194/300\n",
      "3/3 [==============================] - 1s 238ms/step - loss: 3.6839 - accuracy: 0.7250 - val_loss: 4.1010 - val_accuracy: 0.3000\n",
      "Epoch 195/300\n",
      "3/3 [==============================] - 1s 238ms/step - loss: 3.7326 - accuracy: 0.6875 - val_loss: 4.0869 - val_accuracy: 0.4000\n",
      "Epoch 196/300\n",
      "3/3 [==============================] - 1s 242ms/step - loss: 3.7410 - accuracy: 0.6875 - val_loss: 4.0717 - val_accuracy: 0.3000\n",
      "Epoch 197/300\n",
      "3/3 [==============================] - 1s 244ms/step - loss: 3.7276 - accuracy: 0.6500 - val_loss: 4.0574 - val_accuracy: 0.3000\n",
      "Epoch 198/300\n",
      "3/3 [==============================] - 1s 240ms/step - loss: 3.7496 - accuracy: 0.6250 - val_loss: 4.0383 - val_accuracy: 0.3000\n",
      "Epoch 199/300\n",
      "3/3 [==============================] - 1s 245ms/step - loss: 3.6394 - accuracy: 0.6875 - val_loss: 4.0279 - val_accuracy: 0.3000\n",
      "Epoch 200/300\n",
      "3/3 [==============================] - 1s 246ms/step - loss: 3.6987 - accuracy: 0.6625 - val_loss: 4.0190 - val_accuracy: 0.3000\n",
      "Epoch 201/300\n",
      "3/3 [==============================] - 1s 243ms/step - loss: 3.6570 - accuracy: 0.6375 - val_loss: 4.0243 - val_accuracy: 0.3000\n",
      "Epoch 202/300\n",
      "3/3 [==============================] - 1s 252ms/step - loss: 3.6325 - accuracy: 0.6500 - val_loss: 4.0065 - val_accuracy: 0.3000\n",
      "Epoch 203/300\n",
      "3/3 [==============================] - 1s 238ms/step - loss: 3.6861 - accuracy: 0.6250 - val_loss: 3.9878 - val_accuracy: 0.3000\n",
      "Epoch 204/300\n",
      "3/3 [==============================] - 1s 249ms/step - loss: 3.6280 - accuracy: 0.7125 - val_loss: 3.9723 - val_accuracy: 0.4000\n",
      "Epoch 205/300\n",
      "3/3 [==============================] - 1s 253ms/step - loss: 3.6395 - accuracy: 0.7250 - val_loss: 3.9632 - val_accuracy: 0.3000\n",
      "Epoch 206/300\n",
      "3/3 [==============================] - 1s 247ms/step - loss: 3.5996 - accuracy: 0.6625 - val_loss: 3.9432 - val_accuracy: 0.3000\n",
      "Epoch 207/300\n",
      "3/3 [==============================] - 1s 242ms/step - loss: 3.6086 - accuracy: 0.6625 - val_loss: 3.9412 - val_accuracy: 0.3000\n",
      "Epoch 208/300\n",
      "3/3 [==============================] - 1s 246ms/step - loss: 3.5602 - accuracy: 0.7125 - val_loss: 3.9456 - val_accuracy: 0.3000\n",
      "Epoch 209/300\n",
      "3/3 [==============================] - 1s 244ms/step - loss: 3.5569 - accuracy: 0.7375 - val_loss: 3.9319 - val_accuracy: 0.3000\n",
      "Epoch 210/300\n",
      "3/3 [==============================] - 1s 240ms/step - loss: 3.5817 - accuracy: 0.6500 - val_loss: 3.9071 - val_accuracy: 0.4000\n",
      "Epoch 211/300\n",
      "3/3 [==============================] - 1s 245ms/step - loss: 3.5427 - accuracy: 0.7500 - val_loss: 3.8775 - val_accuracy: 0.4000\n",
      "Epoch 212/300\n",
      "3/3 [==============================] - 1s 246ms/step - loss: 3.6232 - accuracy: 0.6250 - val_loss: 3.8544 - val_accuracy: 0.4000\n",
      "Epoch 213/300\n",
      "3/3 [==============================] - 1s 247ms/step - loss: 3.4885 - accuracy: 0.7375 - val_loss: 3.8272 - val_accuracy: 0.5000\n",
      "Epoch 214/300\n",
      "3/3 [==============================] - 1s 248ms/step - loss: 3.5399 - accuracy: 0.6875 - val_loss: 3.8245 - val_accuracy: 0.5000\n",
      "Epoch 215/300\n",
      "3/3 [==============================] - 1s 245ms/step - loss: 3.5220 - accuracy: 0.6500 - val_loss: 3.8361 - val_accuracy: 0.5000\n",
      "Epoch 216/300\n",
      "3/3 [==============================] - 1s 243ms/step - loss: 3.5172 - accuracy: 0.6875 - val_loss: 3.8448 - val_accuracy: 0.5000\n",
      "Epoch 217/300\n",
      "3/3 [==============================] - 1s 242ms/step - loss: 3.5356 - accuracy: 0.6250 - val_loss: 3.8562 - val_accuracy: 0.3000\n"
     ]
    }
   ],
   "source": [
    "history = model.fit(\n",
    "    X_train,\n",
    "    y_train,\n",
    "    validation_data=(X_dev, y_dev),\n",
    "    epochs=300,\n",
    "    batch_size=batch_size,\n",
    "    callbacks=[early_stopping],\n",
    ")"
   ]
  },
  {
   "cell_type": "code",
   "execution_count": 20,
   "metadata": {},
   "outputs": [
    {
     "name": "stdout",
     "output_type": "stream",
     "text": [
      "1/1 [==============================] - 0s 95ms/step - loss: 3.6953 - accuracy: 0.5000\n",
      "1/1 [==============================] - 0s 28ms/step\n"
     ]
    }
   ],
   "source": [
    "model.evaluate(X_test, y_test)\n",
    "y = model.predict(X_test)\n",
    "predicted_indices = np.argmax(y, axis=-1)\n",
    "original_labels = label_encoder.inverse_transform(predicted_indices)"
   ]
  },
  {
   "cell_type": "code",
   "execution_count": 21,
   "metadata": {},
   "outputs": [
    {
     "name": "stdout",
     "output_type": "stream",
     "text": [
      "['legal ' 'creative' 'business' 'government' 'scientific' 'government'\n",
      " 'business' 'scientific' 'medical' 'medical']\n"
     ]
    }
   ],
   "source": [
    "print(original_labels)"
   ]
  }
 ],
 "metadata": {
  "kernelspec": {
   "display_name": "Python 3",
   "language": "python",
   "name": "python3"
  },
  "language_info": {
   "codemirror_mode": {
    "name": "ipython",
    "version": 3
   },
   "file_extension": ".py",
   "mimetype": "text/x-python",
   "name": "python",
   "nbconvert_exporter": "python",
   "pygments_lexer": "ipython3",
   "version": "3.9.18"
  }
 },
 "nbformat": 4,
 "nbformat_minor": 2
}
